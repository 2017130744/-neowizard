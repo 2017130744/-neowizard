{
  "nbformat": 4,
  "nbformat_minor": 0,
  "metadata": {
    "colab": {
      "name": "Untitled42.ipynb",
      "provenance": [],
      "authorship_tag": "ABX9TyO+5fs1EYOWwanoy4F/GYZX",
      "include_colab_link": true
    },
    "kernelspec": {
      "name": "python3",
      "display_name": "Python 3"
    },
    "language_info": {
      "name": "python"
    }
  },
  "cells": [
    {
      "cell_type": "markdown",
      "metadata": {
        "id": "view-in-github",
        "colab_type": "text"
      },
      "source": [
        "<a href=\"https://colab.research.google.com/github/2017130744/-neowizard/blob/main/07%20python%20numpy2.ipynb\" target=\"_parent\"><img src=\"https://colab.research.google.com/assets/colab-badge.svg\" alt=\"Open In Colab\"/></a>"
      ]
    },
    {
      "cell_type": "code",
      "execution_count": 6,
      "metadata": {
        "colab": {
          "base_uri": "https://localhost:8080/"
        },
        "id": "DPawYC_TMnYO",
        "outputId": "9a6620d0-95d4-413c-9cc0-303d7cecb7b8"
      },
      "outputs": [
        {
          "output_type": "execute_result",
          "data": {
            "text/plain": [
              "array([[20, 29],\n",
              "       [44, 68]])"
            ]
          },
          "metadata": {},
          "execution_count": 6
        }
      ],
      "source": [
        "##행렬곱(dot product)\n",
        "import numpy as np\n",
        "\n",
        "\n",
        "a = np.array([[1,2,3],[4,5,6]])\n",
        "b = np.array([[1,3],[2,4],[5,6]])\n",
        "c = np.dot(a,b)\n",
        "\n",
        "c\n",
        "\n",
        "#행렬 곱은 행렬의 원소개수가 같아야만 계산할 수 있는 사칙연산의 한계를 벗어나\n",
        "#행렬곱 조건을 만족하는 다양한 크기의 행렬을 연속으로 만들고\n",
        "#행렬곱을 연속으로 계산하면서\n",
        "#결과값을 만들 수 있기 때문에 머신러닝과 이미지 프로세싱 분야에서 자주 사용됨\n",
        "\n",
        "#예를 들어 입력 행렬 형상이 64x64이고 결과 행렬 형상이 64x10이라면 중간에 dot product를 만족하는 어떤 형상의 행렬이라도 가져올 수 있다.\n",
        "\n",
        "# (64x64) * (64x256) * (256x512) * (512x64) * (64x10) = (64x10)"
      ]
    },
    {
      "cell_type": "code",
      "source": [
        "#broadcast: 행렬의 사칙 연산은 기본적으로 두 개의 행렬 크기가 같은 경우에만 수행가능.\n",
        "#그러나 numpy에는 크기가 다른 두 행렬간에도 사칙연산을 할 수 있는데 이를 브로드캐스트라고 지칭\n",
        "#차원이 작은 쪽이 큰 쪽의 행단위로 반복적으로 크기를 맞춘 후에 계산\n",
        "\n",
        "a = np.array([[1,2],[3,4]])\n",
        "b = np.array([5])\n",
        "\n",
        "#이 때 bradcast를 해주면 b가 [[5,5],[5,5]]가 된다. \n",
        "\n",
        "a*b\n",
        "#이는 사칙연산에만 적용된다. dot product(행렬곱)에서는 적용되지 않는다. 행렬의 사칙연산 곱셈과 행렬곱은 다른 것이다. \n",
        "\n",
        "\n"
      ],
      "metadata": {
        "colab": {
          "base_uri": "https://localhost:8080/"
        },
        "id": "Ab6Rxa30Oc5b",
        "outputId": "9190cfca-1f5b-4a22-c841-60de09df4675"
      },
      "execution_count": 9,
      "outputs": [
        {
          "output_type": "execute_result",
          "data": {
            "text/plain": [
              "array([[ 5, 10],\n",
              "       [15, 20]])"
            ]
          },
          "metadata": {},
          "execution_count": 9
        }
      ]
    },
    {
      "cell_type": "code",
      "source": [
        "#전치행렬: 어떤 행렬의 전치행렬은 원본 행렬의 열은 행으로, 행은 열로 바꾼 것이다. 원본 행렬을 A라고 하면 전치행렬은 AT라고 한다. \n",
        "#즉, 1행은 1열로, 2행은 2열로, 3행은 3열로 가는 것이다. \n",
        "\n",
        "a = np.array([[1,2,3],[4,5,6]])\n",
        "b = a.T    ##기존 행렬에 .T를 한다. \n",
        "b\n",
        "\n",
        "c = np.array([1,2,3,4,5])\n",
        "d = c.T\n",
        "##이 때 d.shape를 하면 c와 똑같이 (5,) 가 나온다. 그 이유는 벡터(1차원 행렬)는 행과 열을 구분하지 않기 때문이다.\n",
        "#만약 완전히 전치행렬을 만들고 싶으면 e = c.reshape(1,5)를 한 뒤 f = e.T를 하면 된다. "
      ],
      "metadata": {
        "colab": {
          "base_uri": "https://localhost:8080/"
        },
        "id": "p31aGvl2PMU-",
        "outputId": "f9a99d77-988c-4bcf-a8be-446eb320d9c0"
      },
      "execution_count": 12,
      "outputs": [
        {
          "output_type": "execute_result",
          "data": {
            "text/plain": [
              "(5,)"
            ]
          },
          "metadata": {},
          "execution_count": 12
        }
      ]
    },
    {
      "cell_type": "code",
      "source": [
        "#행렬의 index\n",
        "\n",
        "a = np.array([10,20,30,40,50,60]).reshape(3,2)\n",
        "a[0,0]    ##행렬의 행과 열에 대한 인덱싱이다. 이는 1행 1열을 의미\n",
        "a[1,0]     ##이는 2행 1열을 의미\n",
        "\n",
        "a[0:2,1]  #행렬의 인덱싱은 슬라이싱도 가능하다. 여기서 행은 1행과 2행, 열은 1열이므로 1행1열과 2행1열을 의미한다. "
      ],
      "metadata": {
        "colab": {
          "base_uri": "https://localhost:8080/"
        },
        "id": "eJKwyDDyQmwK",
        "outputId": "759072cc-e809-4a25-be4f-1a8427779eff"
      },
      "execution_count": 20,
      "outputs": [
        {
          "output_type": "execute_result",
          "data": {
            "text/plain": [
              "array([20, 40])"
            ]
          },
          "metadata": {},
          "execution_count": 20
        }
      ]
    },
    {
      "cell_type": "code",
      "source": [
        "#iterator: 행렬의 원소들을 차례대로 읽는 것\n",
        "a = np.array([[10,20,30,40],[50,60,70,80]])\n",
        "\n",
        "#보통 다음과 같이 쓴다. \n",
        "\n",
        "it = np.nditer(a, flags=['multi_index'], op_flags=['readwrite']) #numpy의 nditer라는 매서드로 구할 수 있다. 안의 변수는 옵션들이다. \n",
        "\n",
        "while not it.finished:\n",
        "  idx = it.multi_index\n",
        "  print(\"current value =>\", a[idx])\n",
        "  it.iternext()     #iternext()라는 매서드는 다음 원소로 이동시키는 것이다. "
      ],
      "metadata": {
        "colab": {
          "base_uri": "https://localhost:8080/"
        },
        "id": "2DxAAqMnRbVB",
        "outputId": "b3091ad7-9416-4adb-db60-26313c82e5b8"
      },
      "execution_count": 22,
      "outputs": [
        {
          "output_type": "stream",
          "name": "stdout",
          "text": [
            "current value => 10\n",
            "current value => 20\n",
            "current value => 30\n",
            "current value => 40\n",
            "current value => 50\n",
            "current value => 60\n",
            "current value => 70\n",
            "current value => 80\n"
          ]
        }
      ]
    }
  ]
}