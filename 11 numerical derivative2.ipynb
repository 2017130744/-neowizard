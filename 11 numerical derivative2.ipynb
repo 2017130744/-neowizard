{
  "nbformat": 4,
  "nbformat_minor": 0,
  "metadata": {
    "colab": {
      "name": "Untitled45.ipynb",
      "provenance": [],
      "authorship_tag": "ABX9TyP+VEI73N/VQRAbFh+Ah2Hh",
      "include_colab_link": true
    },
    "kernelspec": {
      "name": "python3",
      "display_name": "Python 3"
    },
    "language_info": {
      "name": "python"
    }
  },
  "cells": [
    {
      "cell_type": "markdown",
      "metadata": {
        "id": "view-in-github",
        "colab_type": "text"
      },
      "source": [
        "<a href=\"https://colab.research.google.com/github/2017130744/-neowizard/blob/main/11%20numerical%20derivative2.ipynb\" target=\"_parent\"><img src=\"https://colab.research.google.com/assets/colab-badge.svg\" alt=\"Open In Colab\"/></a>"
      ]
    },
    {
      "cell_type": "code",
      "execution_count": 4,
      "metadata": {
        "colab": {
          "base_uri": "https://localhost:8080/"
        },
        "id": "Q5pSIyFj8tKz",
        "outputId": "efebe5c1-4747-483c-b050-a33c290ddf92"
      },
      "outputs": [
        {
          "output_type": "execute_result",
          "data": {
            "text/plain": [
              "6.000000000012662"
            ]
          },
          "metadata": {},
          "execution_count": 4
        }
      ],
      "source": [
        "#수치미분:  numerical derivative, 수학공식을 쓰지 않고 파이썬을 이용하여 주어진 값이 미세하게 변할 때 함수 값 f는 얼마나 변하는지 계산해주는 것을 지칭\n",
        "import numpy as np\n",
        "\n",
        "\n",
        "def numerical_derivative(f , x):  ##f는 미분하려는 함수, 외부에서 def나 lambda로 정의됨. x는 미분 값을 알고자 한느 입력값, 즉 미세하게 변하는 입력값\n",
        "  delta_x= 1e-4           ##lim에 해당하는 작은 값. 너무 작은 값은 구현못해서 그냥 10의 -4승정도로 한다. \n",
        "  \n",
        "  return (f(x+delta_x) - f(x-delta_x)) / (2*delta_x)   ##미분식\n",
        "\n",
        "## f(x) = x^2 에서 x=3일 때 미분 값 구하기\n",
        "\n",
        "def my_func1(x):\n",
        "  return x**2\n",
        "\n",
        "numerical_derivative(my_func1, 3)"
      ]
    },
    {
      "cell_type": "code",
      "source": [
        "## f(x) = 3xe^x를 미분한 함수를 f'(x)라고 할 때 f'(2)구하기\n",
        "\n",
        "def my_func2(x):\n",
        "  return 3*x*(np.exp(x))\n",
        "\n",
        "numerical_derivative(my_func2,2)"
      ],
      "metadata": {
        "colab": {
          "base_uri": "https://localhost:8080/"
        },
        "id": "3uG_rBcjTNS4",
        "outputId": "ddf684d5-329f-4499-9772-19372964dece"
      },
      "execution_count": 6,
      "outputs": [
        {
          "output_type": "execute_result",
          "data": {
            "text/plain": [
              "66.50150507518049"
            ]
          },
          "metadata": {},
          "execution_count": 6
        }
      ]
    },
    {
      "cell_type": "code",
      "source": [
        "#다변수 함수 미분: 입력변수가 하나 이상인 다변수 함수의 경우 입력 변수는 서로 독립적이므로 수치미분 또한 변수의 개수 만큼 개별적으로 계산해야함\n",
        "# f(x,y)= 2x+3xy+y^3 일 때 f'(1,2)를 계산하기 위해서는 다음 두 과정을 수행한다. \n",
        "# 1. x=1에서의 미분계수는 변수 y=2를 대입하여 f(x)를 만들고 이에 대해 f'(x,2)를 수행\n",
        "# 2. y=2에서의 미분계수는 변수 x=1을 대입하여 f(y)를 만들고 이에 대해 f'(1,y)를 수행\n",
        "# f(1,2) = (8, 15) 의 의미: y=2로 고정하고 x=1에서 x값을 미세하게 변화시키면 그 함수값이 8만큼 변한다는 의미. x=1로 고정하고 y=2에서 y값을 미세하게 변화시키면 그 함수값이 15만큼 변한다는 의미\n",
        "\n"
      ],
      "metadata": {
        "id": "roqwMuOsVa5a"
      },
      "execution_count": null,
      "outputs": []
    }
  ]
}