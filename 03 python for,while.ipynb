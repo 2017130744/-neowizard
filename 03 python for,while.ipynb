{
  "nbformat": 4,
  "nbformat_minor": 0,
  "metadata": {
    "colab": {
      "name": "Untitled38.ipynb",
      "provenance": [],
      "authorship_tag": "ABX9TyNtA98OpColUN/tl172s8C6",
      "include_colab_link": true
    },
    "kernelspec": {
      "name": "python3",
      "display_name": "Python 3"
    },
    "language_info": {
      "name": "python"
    }
  },
  "cells": [
    {
      "cell_type": "markdown",
      "metadata": {
        "id": "view-in-github",
        "colab_type": "text"
      },
      "source": [
        "<a href=\"https://colab.research.google.com/github/2017130744/-neowizard/blob/main/03%20python%20for%2Cwhile.ipynb\" target=\"_parent\"><img src=\"https://colab.research.google.com/assets/colab-badge.svg\" alt=\"Open In Colab\"/></a>"
      ]
    },
    {
      "cell_type": "code",
      "execution_count": null,
      "metadata": {
        "id": "jiuhwZnxlUn2"
      },
      "outputs": [],
      "source": [
        "a = 1\n",
        "\n",
        "if a>0:\n",
        "  print(a)\n",
        "  print('positive number')\n",
        "\n",
        "elif a ==0:\n",
        "  print(a)\n",
        "  print('zero')\n",
        "\n",
        "else:\n",
        "  print(a)\n",
        "  print('negative number')\n",
        "\n",
        "## if문의 활용. 참거짓을 따져서 조건에 맞는 명령을 실행한다. if는 하나의 조건문, elif는 기존의 if문과 다른 조건문, else는 어떤 조건문에도 해당되지 않는 경우.\n"
      ]
    },
    {
      "cell_type": "code",
      "source": [
        "a = [10,20,30,40,50]\n",
        "b = {'kim':80, 'lee':90}\n",
        "\n",
        "if 45 in a:\n",
        "  print('45 is in a')\n",
        "else:\n",
        "  print('45 is not in a')\n",
        "\n",
        "if 'kim' in b:\n",
        "  print('kim is in b')\n",
        "else:\n",
        "  print('kim is not in b')\n",
        "\n",
        "  ## if a in b-> a가 b안에 있는 데이터 요소이면 참. 딕셔너리의 경우 key값이 기준."
      ],
      "metadata": {
        "colab": {
          "base_uri": "https://localhost:8080/"
        },
        "id": "OqHX3AazmXlW",
        "outputId": "21f339a6-2338-46ce-daac-067f87f2f674"
      },
      "execution_count": 3,
      "outputs": [
        {
          "output_type": "stream",
          "name": "stdout",
          "text": [
            "45 is not in a\n",
            "kim is in b\n"
          ]
        }
      ]
    },
    {
      "cell_type": "code",
      "source": [
        "# for 반복문\n",
        "\n",
        "## for variable in range(a): -> 0부터 a-1까지 반복\n",
        "\n",
        "for i in range(10):\n",
        "  print(i, 'aa', end='bb') #i를 반복하면서 출력하되 중간에 들어가는 것을 지정해줄 수 있다. 기본적으로 공백을 하나 두고 시작한다. \n",
        "\n",
        "## range(a,b) -> a 부터 b-1까지 반복\n",
        "\n",
        "for i in range(4,10):\n",
        "  print( i, '', end='')\n",
        "\n",
        "## range(a,b,c) -> a부터 b-1까지 c의 간격으로 반복\n",
        "\n",
        "for i in range(0,10,2):\n",
        "  print( i, '', end='')"
      ],
      "metadata": {
        "colab": {
          "base_uri": "https://localhost:8080/"
        },
        "id": "JPb1QYuKnNnt",
        "outputId": "f3205363-641c-47c3-9e4f-fbc4d368bdee"
      },
      "execution_count": 34,
      "outputs": [
        {
          "output_type": "stream",
          "name": "stdout",
          "text": [
            "0 aabb1 aabb2 aabb3 aabb4 aabb5 aabb6 aabb7 aabb8 aabb9 aabb4 5 6 7 8 9 0 2 4 6 8 "
          ]
        }
      ]
    },
    {
      "cell_type": "code",
      "source": [
        "dict_data = {'kim':80, 'lee':90}\n",
        "\n",
        "for i in dict_data:\n",
        "  print(i)              ## 기본적으로 for함수에서 딕셔너리를 집어넣으면 key값이 기준이다. \n",
        "\n",
        "for key, value in dict_data.items():\n",
        "  print(value)                          ##dict_data.items()라고 해주면 key와 value로 만들어진 쌍을 튜플로 만들어서 이를 원소로 가지는 리스트가 나왔다. 이 리스트에 for 함수를 적용시킨 것. \n",
        "\n"
      ],
      "metadata": {
        "colab": {
          "base_uri": "https://localhost:8080/"
        },
        "id": "KGAW8gaEppAs",
        "outputId": "928f46c3-4e3a-402c-83f4-e089992f8ec6"
      },
      "execution_count": 38,
      "outputs": [
        {
          "output_type": "stream",
          "name": "stdout",
          "text": [
            "kim\n",
            "lee\n",
            "80\n",
            "90\n"
          ]
        }
      ]
    },
    {
      "cell_type": "code",
      "source": [
        "# list comprehension: 리스트의 [..]안에 for루프를 사용한 것.\n",
        "\n",
        "a = [x**2 for x in range(5)] ## a라는 리스트의 원소를 정의해준 것. range(5)를 반복할 때 각각의 x의 제곱한 것을 원소로 가진다는 뜻\n",
        "\n",
        "even_number = [i for i in range(10) if i%2 == 0] ## 0부터 9까지의 수 중 짝수만을 원소로 가지는 리스트. %는 나머지를 의미.\n",
        "even_number"
      ],
      "metadata": {
        "colab": {
          "base_uri": "https://localhost:8080/"
        },
        "id": "2Q9SpFQVqaGO",
        "outputId": "f59ef512-f2a3-4543-a157-0124428fffae"
      },
      "execution_count": 42,
      "outputs": [
        {
          "output_type": "execute_result",
          "data": {
            "text/plain": [
              "[0, 2, 4, 6, 8]"
            ]
          },
          "metadata": {},
          "execution_count": 42
        }
      ]
    },
    {
      "cell_type": "code",
      "source": [
        "# while 반복문: 설정한 조건이 될 때까지 명령을 반복. 반드시 +=나 -=와 같이 변수를 변경해서 반복문이 끝날 수 있도록 해야한다. \n",
        "\n",
        "a = 5\n",
        "\n",
        "while a >=0:\n",
        "  print('a==', a)\n",
        "  a -=1"
      ],
      "metadata": {
        "colab": {
          "base_uri": "https://localhost:8080/"
        },
        "id": "w3MgYvpItay9",
        "outputId": "85853830-9a7b-4cb9-8336-dce589c6bd45"
      },
      "execution_count": 43,
      "outputs": [
        {
          "output_type": "stream",
          "name": "stdout",
          "text": [
            "a== 5\n",
            "a== 4\n",
            "a== 3\n",
            "a== 2\n",
            "a== 1\n",
            "a== 0\n"
          ]
        }
      ]
    },
    {
      "cell_type": "code",
      "source": [
        "#while 반복문에서 break, continue\n",
        " \n",
        "a = 5\n",
        "\n",
        "while a>=0:\n",
        "  print('a==', a)\n",
        "  a -= 1\n",
        "\n",
        "  if a == 2:\n",
        "    print('break here')\n",
        "    break                       ## break:조건문을 만족하면 while 함수를 멈춘다. \n",
        "  \n",
        "  else:\n",
        "    print('continue here')\n",
        "    continue                    ## continue: 조건문을 만족하면 계속해서 while함수를 돌린다. "
      ],
      "metadata": {
        "colab": {
          "base_uri": "https://localhost:8080/"
        },
        "id": "N71AHF9wt5K-",
        "outputId": "1d24781b-7686-42e7-93cd-65079895a86b"
      },
      "execution_count": 44,
      "outputs": [
        {
          "output_type": "stream",
          "name": "stdout",
          "text": [
            "a== 5\n",
            "continue here\n",
            "a== 4\n",
            "continue here\n",
            "a== 3\n",
            "break here\n"
          ]
        }
      ]
    }
  ]
}