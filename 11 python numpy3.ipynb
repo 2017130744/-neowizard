{
  "nbformat": 4,
  "nbformat_minor": 0,
  "metadata": {
    "colab": {
      "name": "Untitled46.ipynb",
      "provenance": [],
      "authorship_tag": "ABX9TyORpxwIOc/QFPa9cu/NOGec",
      "include_colab_link": true
    },
    "kernelspec": {
      "name": "python3",
      "display_name": "Python 3"
    },
    "language_info": {
      "name": "python"
    }
  },
  "cells": [
    {
      "cell_type": "markdown",
      "metadata": {
        "id": "view-in-github",
        "colab_type": "text"
      },
      "source": [
        "<a href=\"https://colab.research.google.com/github/2017130744/-neowizard/blob/main/11%20python%20numpy3.ipynb\" target=\"_parent\"><img src=\"https://colab.research.google.com/assets/colab-badge.svg\" alt=\"Open In Colab\"/></a>"
      ]
    },
    {
      "cell_type": "code",
      "execution_count": 10,
      "metadata": {
        "id": "wODWX7roO1Su"
      },
      "outputs": [],
      "source": [
        "#다변수 함수를 미분하기\n",
        "\n",
        "import numpy as np\n",
        "\n",
        "def numerical_derivative(f,x):    ## x는 모든 변수를 포함하고 있는 numpy 객체(배열, 행렬..). 만약 f의 입력 변수가 2개라면 parameter x 도 2개이다. \n",
        "  delta_x = 1e-4\n",
        "  grad = np.zeros_like(x)         ## 계산된 수치미분 값을 저장할 행렬 변수. x와 같은 모양 + 현재 모든 원소값은 0\n",
        "\n",
        "  it = np.nditer(x, flags=['multi_index'], op_flags = ['readwrite']) ##입력으로 들어온 변수 x가 벡터(행렬)이므로 iterater로 각 변수마다 계산\n",
        "\n",
        "  while not it.finished:\n",
        "    idx = it.multi_index   ##입력 parameter 각각을 나타낸다\n",
        "\n",
        "    tmp_val = x[idx]\n",
        "    x[idx] = float(tmp_val) + delta_x\n",
        "    fx1 = f(x)    ##f(x + delta_x)\n",
        "\n",
        "    x[idx] = tmp_val - delta_x\n",
        "    fx2 = f(x)   ##f(x-delta_x)\n",
        "\n",
        "    grad[idx] = (fx1 - fx2) / (2*delta_x)\n",
        "\n",
        "    x[idx] = tmp_val\n",
        "    it.iternext()\n",
        "\n",
        "  return grad"
      ]
    },
    {
      "cell_type": "code",
      "source": [
        "## 변수가 2개인 함수의 수치미분 계산. f = 2x + 3xy + y^3\n",
        "\n",
        "def func1(input_obj):         ##예를 들어 func1([1,3]) 은 f(x,y)에 대하여 f(1,3)을 의미한다. \n",
        "  x = input_obj[0]\n",
        "  y = input_obj[1]\n",
        "\n",
        "  return (2*x + 3*x*y + np.power(y,3))\n",
        "\n",
        "input = np.array([1.0, 2.0])\n",
        "\n",
        "numerical_derivative(func1, input)"
      ],
      "metadata": {
        "colab": {
          "base_uri": "https://localhost:8080/"
        },
        "id": "Pe1pHk8SP-v-",
        "outputId": "c168fc5d-0cfb-4214-dd4c-7eb8b3a2304d"
      },
      "execution_count": 11,
      "outputs": [
        {
          "output_type": "execute_result",
          "data": {
            "text/plain": [
              "array([ 8.        , 15.00000001])"
            ]
          },
          "metadata": {},
          "execution_count": 11
        }
      ]
    },
    {
      "cell_type": "code",
      "source": [
        "## 변수가 4개인 함수의 수치미분 계산 -> 변수 행렬을 2x2로 만든다. 총 두 번 편미분을 계산하도록 만들었었기 때문이다. \n",
        "\n",
        "## f(w,x,y,z) = wx + xyz + 3w + zy^2 일 때 f'(1,2,3,4) 구하기\n",
        "def func2(input_obj):\n",
        "  w = input_obj[0,0]\n",
        "  x = input_obj[0,1]\n",
        "  y = input_obj[1,0]\n",
        "  z = input_obj[1,1]\n",
        "\n",
        "  return(w*x + x*y*z + 3*w + z+np.power(y,2))\n",
        "\n",
        "input = np.array([[1.0, 2.0],[3.0 , 4.0]])\n",
        "\n",
        "numerical_derivative(func2, input)"
      ],
      "metadata": {
        "colab": {
          "base_uri": "https://localhost:8080/"
        },
        "id": "xjTKf3HHVejU",
        "outputId": "01cdd0bd-911f-4115-e765-10df725d3e2b"
      },
      "execution_count": 12,
      "outputs": [
        {
          "output_type": "execute_result",
          "data": {
            "text/plain": [
              "array([[ 5., 13.],\n",
              "       [14.,  7.]])"
            ]
          },
          "metadata": {},
          "execution_count": 12
        }
      ]
    }
  ]
}