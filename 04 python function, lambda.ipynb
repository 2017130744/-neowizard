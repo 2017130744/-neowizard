{
  "nbformat": 4,
  "nbformat_minor": 0,
  "metadata": {
    "colab": {
      "name": "Untitled39.ipynb",
      "provenance": [],
      "authorship_tag": "ABX9TyNzmA+p7/Lvfqgf+mwrb6Kq",
      "include_colab_link": true
    },
    "kernelspec": {
      "name": "python3",
      "display_name": "Python 3"
    },
    "language_info": {
      "name": "python"
    }
  },
  "cells": [
    {
      "cell_type": "markdown",
      "metadata": {
        "id": "view-in-github",
        "colab_type": "text"
      },
      "source": [
        "<a href=\"https://colab.research.google.com/github/2017130744/-neowizard/blob/main/04%20python%20function%2C%20lambda.ipynb\" target=\"_parent\"><img src=\"https://colab.research.google.com/assets/colab-badge.svg\" alt=\"Open In Colab\"/></a>"
      ]
    },
    {
      "cell_type": "code",
      "execution_count": 1,
      "metadata": {
        "colab": {
          "base_uri": "https://localhost:8080/"
        },
        "id": "Gffb8_8f7e8j",
        "outputId": "59ceb078-4e99-4754-a109-8f04aa81b340"
      },
      "outputs": [
        {
          "output_type": "stream",
          "name": "stdout",
          "text": [
            "30\n"
          ]
        }
      ],
      "source": [
        "#함수 - function\n",
        "##특정 기능을 수행하는 함수는 def 함수이름 (입력1, 입력2...) 로 정의\n",
        "\n",
        "def sum(x,y):\n",
        "  s = x+y\n",
        "  return s\n",
        "\n",
        "result = sum(10,20)\n",
        "print(result)"
      ]
    },
    {
      "cell_type": "code",
      "source": [
        "## 함수 반환 값: 파이썬 함수는 한 개 이상의 return 값을 반환할 수 있음. return값은 콤마로 분리하거나 tuple 형태로 받을 수 있음\n",
        "\n",
        "def a(x):\n",
        "  return x+1, x+2, x+3  ## return (x+1, x+2, x+3)도 가능\n",
        "\n",
        "x = 100\n",
        "y1, y2, y3 = a(x) ##반드시 변수를 정해줄 때는 return된 값의 개수와 같아야됨\n",
        "print(y1, y2, y3)"
      ],
      "metadata": {
        "colab": {
          "base_uri": "https://localhost:8080/"
        },
        "id": "A3n1-QYd7yym",
        "outputId": "ab221db4-f127-4219-806a-9b9de53da281"
      },
      "execution_count": 2,
      "outputs": [
        {
          "output_type": "stream",
          "name": "stdout",
          "text": [
            "101 102 103\n"
          ]
        }
      ]
    },
    {
      "cell_type": "code",
      "source": [
        "## default parameter: 함수의 입력 파라미터에 기본 값을 정해주는 것. 이 기본 값은 영구 불변한 값은 아니다. 따로 값을 지정할 수도 있다. \n",
        "\n",
        "def print_name(name, count = 2):    ##count를 2로 정해줬다.\n",
        "  for i in range(count):\n",
        "    print('name==', name)\n",
        "\n",
        "print_name(\"Dave\")  ## count를 기본 파라미터 값으로 정해줬으므로 입력값은 name 하나만 있으면 된다. \n",
        "\n",
        "print_name(\"Kim\", 5) ##만약 count값을 5라고 정해주면 이 때는 count가 5로 입력된다. "
      ],
      "metadata": {
        "colab": {
          "base_uri": "https://localhost:8080/"
        },
        "id": "HD3S_t3u8UJh",
        "outputId": "8c410a53-9d61-45fc-966d-cb37e5004e97"
      },
      "execution_count": 6,
      "outputs": [
        {
          "output_type": "stream",
          "name": "stdout",
          "text": [
            "name== Dave\n",
            "name== Dave\n",
            "name== Kim\n",
            "name== Kim\n",
            "name== Kim\n",
            "name== Kim\n",
            "name== Kim\n"
          ]
        }
      ]
    },
    {
      "cell_type": "code",
      "source": [
        "## mutable parameter: 입력 파라미터로 들어온 데이터가 변형될 수 있는 것. list, dict, numpy등\n",
        "## immutable parameter: 입력 파라미터로 들어온 데이터가 변형되지 않는 것. 숫자, 문자, tuple등\n",
        "\n",
        "def a(int_x, input_list):\n",
        "  int_x+=1\n",
        "  input_list.append(100)\n",
        "\n",
        "x = 1\n",
        "s = [1,2,3]\n",
        "\n",
        "a(x,s)\n",
        "\n",
        "print(x,s)  ## x는 a함수로 인해 데이터가 변형되지 않았다. 하지만 list인 s는 변형되었다. 때문에 mutable parameter 데이터들은 이런 함수들이 작동하면서 원래의 데이터가 변형되는 것에 주의해야한다. "
      ],
      "metadata": {
        "colab": {
          "base_uri": "https://localhost:8080/"
        },
        "id": "G8QidCzU9REF",
        "outputId": "0e0e6e42-44cd-4b7f-cb2f-24b65db6254d"
      },
      "execution_count": 8,
      "outputs": [
        {
          "output_type": "stream",
          "name": "stdout",
          "text": [
            "1 [1, 2, 3, 100]\n"
          ]
        }
      ]
    },
    {
      "cell_type": "code",
      "source": [
        "#lambda: def 함수를 한 줄로 표현하는 것. 미분계산에서 많이 쓰인다. \n",
        "\n",
        "f = lambda x : x+ 100  ## 이는 f(x) = x + 100 과 같은 의미이다. \n",
        "\n",
        "f(20)"
      ],
      "metadata": {
        "colab": {
          "base_uri": "https://localhost:8080/"
        },
        "id": "ou69agvO9Hqt",
        "outputId": "ec1b0cdd-b731-4e62-8f79-6a14f6ea5b6c"
      },
      "execution_count": 9,
      "outputs": [
        {
          "output_type": "execute_result",
          "data": {
            "text/plain": [
              "120"
            ]
          },
          "metadata": {},
          "execution_count": 9
        }
      ]
    },
    {
      "cell_type": "code",
      "source": [
        "##lambda는 입력값을 반드시 이용할 필요는 없다. \n",
        "\n",
        "def print_hello():\n",
        "  print(\"hello python\")\n",
        "\n",
        "def test_lambda(s,t):\n",
        "  print(s, t)\n",
        "\n",
        "s = 100\n",
        "t = 200\n",
        "\n",
        "fx = lambda x,y : print_hello()\n",
        "fy = lambda x,y : test_lambda(s,t) ##fy에는 x와 y라는 입력값이 따로 존재하지만 정의된 함수에는 s와 t가 들어간다. \n",
        "\n",
        "fx(500,1000)\n",
        "fy(300,600)  ## x와 y는 따로 정의해주었지만 이미 s와 t가 변수로 선언되었기 때문에 기존에 설정한 s와 t에 따른 값이 나온다. "
      ],
      "metadata": {
        "colab": {
          "base_uri": "https://localhost:8080/"
        },
        "id": "d-3Syh4rAtbY",
        "outputId": "9e5fdb04-a15d-4727-b6ff-7ad2b03c14c1"
      },
      "execution_count": 11,
      "outputs": [
        {
          "output_type": "stream",
          "name": "stdout",
          "text": [
            "hello python\n",
            "100 200\n"
          ]
        }
      ]
    },
    {
      "cell_type": "markdown",
      "source": [
        ""
      ],
      "metadata": {
        "id": "vBAUalqv_Y_V"
      }
    }
  ]
}