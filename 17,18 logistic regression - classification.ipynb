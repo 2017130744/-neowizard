{
  "nbformat": 4,
  "nbformat_minor": 0,
  "metadata": {
    "colab": {
      "name": "Untitled50.ipynb",
      "provenance": [],
      "authorship_tag": "ABX9TyOXXNOXvP8THJPtfp7hHkgx",
      "include_colab_link": true
    },
    "kernelspec": {
      "name": "python3",
      "display_name": "Python 3"
    },
    "language_info": {
      "name": "python"
    }
  },
  "cells": [
    {
      "cell_type": "markdown",
      "metadata": {
        "id": "view-in-github",
        "colab_type": "text"
      },
      "source": [
        "<a href=\"https://colab.research.google.com/github/2017130744/-neowizard/blob/main/17%2C18%20logistic%20regression%20-%20classification.ipynb\" target=\"_parent\"><img src=\"https://colab.research.google.com/assets/colab-badge.svg\" alt=\"Open In Colab\"/></a>"
      ]
    },
    {
      "cell_type": "code",
      "execution_count": null,
      "metadata": {
        "id": "AUINpHBr4r6p"
      },
      "outputs": [],
      "source": [
        "## Logistic Regression 알고리즘\n",
        "## 1. Training data 특성과 분포를 나타내는 최적의 직선을 찾고(linear regression)\n",
        "## 2. 그 직선을 기준으로 데이터를 위(1) 또는 아래(0) 등으로 분류(classification)해주는 알고리즘\n",
        "## 이러한 logistic regression은 classification 알고리즘 중에서도 정확도가 높은 알고리즘으로 알려져 있어서 deep learning에서 기본 component로 사용됨\n",
        "## (x,t) -> regression -> classification -> true(1) or false(0)\n",
        "\n",
        "## sigmoid function: 함수값으로 0~1 사이의 값만을 가지는 함수. \n",
        "## 출력값 y가 1 또는 0만을 가져야 하는 분류 시스템에서 sigmoid 함수가 사용됨. \n",
        "## 출력함수로 sigmoid를 사용해서 sigmoid 계산 값이 0.5보다 크면 결과로 1이 나올 확률이 높다는 것이기 때문에 출력값 y는 1을 정의.\n",
        "## 만약 sigmoid 계산 값이 0.5 미만이면 출력값 y는 0으로 정의. 이렇게 classification 시스템을 구현.\n",
        "## sigmoid 함수의 실제 계산 값 sigmoid(z)는 결과가 나타날 확률을 의미한다. ex) 0.75 -> 75퍼센트로 1이 출력.\n",
        "\n"
      ]
    }
  ]
}