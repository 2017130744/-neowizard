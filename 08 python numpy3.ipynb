{
  "nbformat": 4,
  "nbformat_minor": 0,
  "metadata": {
    "colab": {
      "name": "Untitled44.ipynb",
      "provenance": [],
      "authorship_tag": "ABX9TyO4Rn3b0YpNuZ7Sv47c2NX9",
      "include_colab_link": true
    },
    "kernelspec": {
      "name": "python3",
      "display_name": "Python 3"
    },
    "language_info": {
      "name": "python"
    }
  },
  "cells": [
    {
      "cell_type": "markdown",
      "metadata": {
        "id": "view-in-github",
        "colab_type": "text"
      },
      "source": [
        "<a href=\"https://colab.research.google.com/github/2017130744/-neowizard/blob/main/08%20python%20numpy3.ipynb\" target=\"_parent\"><img src=\"https://colab.research.google.com/assets/colab-badge.svg\" alt=\"Open In Colab\"/></a>"
      ]
    },
    {
      "cell_type": "code",
      "execution_count": 4,
      "metadata": {
        "id": "pqWPOJUaIhFX"
      },
      "outputs": [],
      "source": [
        "#concatenate: 기존 행렬에 행 또는 열을 추가하기 위한 라이브러리. \n",
        "# 행을 추가할 때는 axis = 0, 열을 추가할 때는 axis=1을 입력한다. \n",
        "import numpy as np\n",
        "\n",
        "a = np.array([[10,20,30],[40,50,60]])\n",
        "\n",
        "row_add = np.array([70,80,90]).reshape(1,3)   ##벡터는 행과 열을 구분하지 않기 때문에 reshape를 해준다. \n",
        "\n",
        "column_add = np.array([1000,2000]).reshape(2,1)\n",
        "\n",
        "b = np.concatenate((a, row_add), axis = 0)   ## np.concatenate((합칠 행렬들), axis = 0/1) 과 같이 쓴다. \n",
        "\n",
        "c = np.concatenate((a, column_add), axis = 1)"
      ]
    },
    {
      "cell_type": "code",
      "source": [
        "#loadtxt(): seperator(분리자)로 구분된 파일에서 데이터를 읽기 위한 라이브러리. \n",
        "#예를 들어 콤마로 분리된 데이터 파일을 read하기 위해서는 np.loadtxt(\"파일이름\", seperator = ',') 와 같이 쓴다. \n",
        "#이 때 리턴 값은 행렬이기 때문에 인덱싱이나 슬라이싱이 가능하다. \n",
        "\n",
        "loaded_data = np.loadtxt('./data-01.csv', delimiter=',', dtype=np.float32)  #파일을 불러왔다. 콤마를 기준으로 나눠서 행렬을 만들었다. \n",
        "\n",
        "x_data = loaded_data[: , 0:-1]\n",
        "t_data = loaded_data[:, [-1]]\n",
        "\n",
        "##이런식으로 슬라이싱 해줄 수 있다. \n",
        "\n"
      ],
      "metadata": {
        "id": "WKxP1oSdKnUz"
      },
      "execution_count": null,
      "outputs": []
    },
    {
      "cell_type": "code",
      "source": [
        "#random.rand(): 0부터 1사이의 수를 랜덤하게 호출하는 라이브러리. \n",
        "\n",
        "a = np.random.rand(3)\n",
        "b = np.random.rand(2,3)\n",
        "c = np.random.rand(3,1)\n",
        "\n",
        "print (a)\n",
        "print (b)\n",
        "print(c)"
      ],
      "metadata": {
        "colab": {
          "base_uri": "https://localhost:8080/"
        },
        "id": "_aGnYNfDMAfl",
        "outputId": "12cb9600-145a-40d8-a6ea-98751573edb5"
      },
      "execution_count": 7,
      "outputs": [
        {
          "output_type": "stream",
          "name": "stdout",
          "text": [
            "[0.54782418 0.12685049 0.21854302]\n",
            "[[0.21980901 0.74180401 0.82157715]\n",
            " [0.15324795 0.05280304 0.78332733]]\n",
            "[[0.53928269]\n",
            " [0.36075653]\n",
            " [0.07090434]]\n"
          ]
        }
      ]
    },
    {
      "cell_type": "code",
      "source": [
        "#sum,exp,log\n",
        "\n",
        "x = np.array([[1,3,5,7],[2,4,6,8]])\n",
        "\n",
        "print(np.sum(x))  ## 각 원소들의 합을 구한다. 숫자로 출력\n",
        "print(np.exp(x))  ## 각 원소들의 지수함수?를 나타낸다. 행렬로 출력\n",
        "print(np.log(x))  ## 각 원소들의 로그값을 나타낸다. 행렬로 출력"
      ],
      "metadata": {
        "colab": {
          "base_uri": "https://localhost:8080/"
        },
        "id": "I7zzFxSgMgje",
        "outputId": "fce24a25-fd32-48bc-f4dd-ceeae4e387f8"
      },
      "execution_count": 10,
      "outputs": [
        {
          "output_type": "stream",
          "name": "stdout",
          "text": [
            "36\n",
            "[[2.71828183e+00 2.00855369e+01 1.48413159e+02 1.09663316e+03]\n",
            " [7.38905610e+00 5.45981500e+01 4.03428793e+02 2.98095799e+03]]\n",
            "[[0.         1.09861229 1.60943791 1.94591015]\n",
            " [0.69314718 1.38629436 1.79175947 2.07944154]]\n"
          ]
        }
      ]
    },
    {
      "cell_type": "code",
      "source": [
        "#max, min, argmax, argmin\n",
        "\n",
        "x = np.array([[1,9,5,7],[0,10,6,8]])\n",
        "print(np.max(x))  ##행렬에서 가장 큰 원소를 출력\n",
        "print(np.min(x))  ##행렬에서 가장 작은 원소를 출력\n",
        "\n",
        "print(np.max(x, axis=0)) ##최댓값을 가지는 행을 출력\n",
        "print(np.min(x, axis=1)) ##최솟값을 가지는 열을 출력\n",
        "\n",
        "print(np.argmax(x)) ##최댓값을 가지는 원소의 인덱스를 출력\n",
        "print(np.argmin(x)) ##최솟값을 가지는 원소의 인덱스를 출력\n",
        "\n",
        "print(np.argmax(x,axis=0))  ##각 열마다 최댓값을 가지는 원소의 행 인덱스를 출력\n",
        "print(np.argmin(x,axis=1))  ##각 행마다 최솟값을 가지는 원소의 열 인덱스를 출력"
      ],
      "metadata": {
        "colab": {
          "base_uri": "https://localhost:8080/"
        },
        "id": "3WhstSK8NW6t",
        "outputId": "8e3a9173-7af1-40fd-9f8b-3ce56591563c"
      },
      "execution_count": 19,
      "outputs": [
        {
          "output_type": "stream",
          "name": "stdout",
          "text": [
            "10\n",
            "0\n",
            "[ 1 10  6  8]\n",
            "[1 0]\n",
            "5\n",
            "4\n",
            "[0 1 1 1]\n",
            "[0 0]\n"
          ]
        }
      ]
    },
    {
      "cell_type": "code",
      "source": [
        "# ones, zeros\n",
        "\n",
        "a = np.ones([3, 3])   ##원소가 1로만 채워진 3x3행렬을 출력\n",
        "b = np.zeros([3,2])   ##원소가 0으로만 채워진 3x2행렬을 출력\n",
        "\n",
        "print(a)\n",
        "print(b)\n"
      ],
      "metadata": {
        "colab": {
          "base_uri": "https://localhost:8080/"
        },
        "id": "vCTtM6m1NhAa",
        "outputId": "a1b2f331-4f71-4042-82b6-bc9e456bd71f"
      },
      "execution_count": 20,
      "outputs": [
        {
          "output_type": "stream",
          "name": "stdout",
          "text": [
            "[[1. 1. 1.]\n",
            " [1. 1. 1.]\n",
            " [1. 1. 1.]]\n",
            "[[0. 0.]\n",
            " [0. 0.]\n",
            " [0. 0.]]\n"
          ]
        }
      ]
    },
    {
      "cell_type": "code",
      "source": [
        "#matplotlib, scatter plot\n",
        "#데이터 시각화를 위해서는 matplotlib 라이브러리를 사용\n",
        "\n",
        "import matplotlib.pyplot as plt\n",
        "import numpy as np\n",
        "\n",
        "\n",
        "##x축과 y축 데이터 생성\n",
        "x_data = np.random.rand(100)\n",
        "y_data = np.random.rand(100)\n",
        "\n",
        "plt.title('scatter plot')   ##그래프의 이름\n",
        "plt.grid()  ##grid의 여부\n",
        "plt.scatter(x_data, y_data, color='b', marker='.')  ##그래프 설정. scatter는 그래프의 종류 x축데이터, y축데이터, 그래프의 색깔, plot의 모양\n",
        "plt.show()"
      ],
      "metadata": {
        "colab": {
          "base_uri": "https://localhost:8080/",
          "height": 281
        },
        "id": "0Aw2Mz1FQCXZ",
        "outputId": "9a5b63f3-c0ba-4626-e3c2-b7d65d4a3101"
      },
      "execution_count": 25,
      "outputs": [
        {
          "output_type": "display_data",
          "data": {
            "image/png": "[encoded data removed]",
            "text/plain": [
              "<Figure size 432x288 with 1 Axes>"
            ]
          },
          "metadata": {
            "needs_background": "light"
          }
        }
      ]
    },
    {
      "cell_type": "code",
      "source": [
        "##line plot: 선으로 된 그래프\n",
        "\n",
        "x_data= [x for x in range(-5,5)]\n",
        "y_data = [y*y for y in range(-5,5)]\n",
        "\n",
        "plt.title('line plot')\n",
        "plt.grid()\n",
        "plt.plot(x_data, y_data, color='b')\n",
        "plt.show()"
      ],
      "metadata": {
        "colab": {
          "base_uri": "https://localhost:8080/",
          "height": 281
        },
        "id": "Gtb_vFqNRMb-",
        "outputId": "27ca9c05-017c-461c-ab02-1df32185be04"
      },
      "execution_count": 26,
      "outputs": [
        {
          "output_type": "display_data",
          "data": {
            "image/png": "[encoded data removed]",
            "text/plain": [
              "<Figure size 432x288 with 1 Axes>"
            ]
          },
          "metadata": {
            "needs_background": "light"
          }
        }
      ]
    }
  ]
}