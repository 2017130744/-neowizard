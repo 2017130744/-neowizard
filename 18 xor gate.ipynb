{
  "nbformat": 4,
  "nbformat_minor": 0,
  "metadata": {
    "colab": {
      "name": "Untitled51.ipynb",
      "provenance": [],
      "authorship_tag": "ABX9TyO9r6bRTKOr2mdCHjoa0gJN",
      "include_colab_link": true
    },
    "kernelspec": {
      "name": "python3",
      "display_name": "Python 3"
    },
    "language_info": {
      "name": "python"
    }
  },
  "cells": [
    {
      "cell_type": "markdown",
      "metadata": {
        "id": "view-in-github",
        "colab_type": "text"
      },
      "source": [
        "<a href=\"https://colab.research.google.com/github/2017130744/-neowizard/blob/main/18%20xor%20gate.ipynb\" target=\"_parent\"><img src=\"https://colab.research.google.com/assets/colab-badge.svg\" alt=\"Open In Colab\"/></a>"
      ]
    },
    {
      "cell_type": "code",
      "execution_count": null,
      "metadata": {
        "id": "edyTuG5JAsL6"
      },
      "outputs": [],
      "source": [
        "## 머신러닝 xor 문제\n",
        "##nand -> not and. and의 반대값\n",
        "##xor -> not or. or의 반대값"
      ]
    },
    {
      "cell_type": "code",
      "source": [
        "import numpy as np\n",
        "\n",
        "##1. external function(sigmoid, nemirecal_derivative)\n",
        "\n",
        "def sigmoid(x):\n",
        "  return 1 / (1+np.exp(-x))\n",
        "\n",
        "\n",
        "def numerical_derivative(f,x):\n",
        "  delta_x = 1e-4\n",
        "  grad = np.zeros_like(x)        \n",
        "\n",
        "  it = np.nditer(x, flags=['multi_index'], op_flags = ['readwrite'])\n",
        "\n",
        "  while not it.finished:\n",
        "    idx = it.multi_index   \n",
        "\n",
        "    tmp_val = x[idx]\n",
        "    x[idx] = float(tmp_val) + delta_x\n",
        "    fx1 = f(x)    ##f(x + delta_x)\n",
        "\n",
        "    x[idx] = tmp_val - delta_x\n",
        "    fx2 = f(x)   ##f(x-delta_x)\n",
        "\n",
        "    grad[idx] = (fx1 - fx2) / (2*delta_x)\n",
        "\n",
        "    x[idx] = tmp_val\n",
        "    it.iternext()\n",
        "\n",
        "  return grad"
      ],
      "metadata": {
        "id": "pW944T0qCSdy"
      },
      "execution_count": 1,
      "outputs": []
    },
    {
      "cell_type": "code",
      "source": [
        "## 2. LogicGate class(__init__, __loss_func, error_val)\n",
        "\n",
        "class LogicGate:\n",
        "\n",
        "  def __init__(self, gate_name, xdata, tdata):\n",
        "\n",
        "    self.name = gate_name\n",
        "\n",
        "    #입력데이터, 정답데이터 초기화\n",
        "    self.__xdata = xdata.reshape(4,2)  #입력데이터는 (0,0), (0,1), (1,0), (1,1) 4가지이다. \n",
        "    self.__tdata = tdata.reshape(4,1)\n",
        "\n",
        "    #가중치 W, 바이어스 b 초기화\n",
        "    self.__W = np.random.rand(2,1)  #입력데이터가 x1과 x2 두 가지이므로 2x1 martix를 만든다. \n",
        "    self.__b = np.random.rand(1)\n",
        "\n",
        "    #학습률 learning data 초기화\n",
        "    self.__learning_rate = 1e-2\n",
        "\n",
        "    #손실함수\n",
        "  def __loss_func(self):\n",
        "\n",
        "     delta = 1e-7\n",
        "\n",
        "     z = np.dot(self.__xdata, self.__W) + self.__b\n",
        "     y = sigmoid(z)\n",
        "\n",
        "     #cross-entropy\n",
        "     return -np.sum(self.__tdata*np.log(y+delta) + (1-self.__tdata)*np.log((1-y)+delta))\n",
        "\n",
        "    #손실 값 계산\n",
        "  def error_val(self):\n",
        "\n",
        "      delta = 1e-7\n",
        "\n",
        "      z = np.dot(self.__xdata, self.__W) + self.__b\n",
        "      y = sigmoid(z)\n",
        "\n",
        "      #cross-entropy\n",
        "      return -np.sum(self.__tdata*np.log(y+delta) + (1-self.__tdata)*np.log((1-y)+delta))\n",
        "\n",
        "    #수치미분을 이용하여 손시함수가 최소가 될 때까지 학습하는 함수\n",
        "  def train(self):\n",
        "\n",
        "      f = lambda x : self.__loss_func()\n",
        "\n",
        "      print(\"initial error value = \", self.error_val())\n",
        "\n",
        "      for step in range(8001):\n",
        "\n",
        "        self.__W -= self.__learning_rate * numerical_derivative(f, self.__W)\n",
        "        self.__b -= self.__learning_rate * numerical_derivative(f, self.__b)\n",
        "\n",
        "        if (step % 400 == 0):\n",
        "          print('step = ', step, 'error value = ', self.error_val())\n",
        "\n",
        "      \n",
        "    #미래 값 예측 함수\n",
        "  def predict (self, input_data):\n",
        "\n",
        "       z = np.dot(input_data, self.__W) + self.__b\n",
        "       y = sigmoid(z)\n",
        "\n",
        "       if y > 0.5:\n",
        "         result = 1  #True\n",
        "      \n",
        "       else:\n",
        "         result = 0  #False\n",
        "       \n",
        "       return y, result"
      ],
      "metadata": {
        "id": "Xd2eP153Cp6A"
      },
      "execution_count": 5,
      "outputs": []
    },
    {
      "cell_type": "code",
      "source": [
        "#And Gate 검증\n",
        "\n",
        "xdata = np.array([[0,0],[0,1], [1,0], [1,1]])\n",
        "tdata = np.array([0,0,0,1])   #And 정답데이터\n",
        "\n",
        "AND_obj = LogicGate('AND_GATE', xdata, tdata)\n",
        "\n",
        "AND_obj.train()"
      ],
      "metadata": {
        "colab": {
          "base_uri": "https://localhost:8080/"
        },
        "id": "fpbx2b8vH-wX",
        "outputId": "5b8e7552-7680-42f9-d295-913551b37355"
      },
      "execution_count": 6,
      "outputs": [
        {
          "output_type": "stream",
          "name": "stdout",
          "text": [
            "initial error value =  3.3832415721013365\n",
            "step =  0 error value =  3.3451032741585873\n",
            "step =  400 error value =  1.399954066853371\n",
            "step =  800 error value =  1.0697188204473795\n",
            "step =  1200 error value =  0.8723365654659045\n",
            "step =  1600 error value =  0.7383150808467145\n",
            "step =  2000 error value =  0.6403270750129862\n",
            "step =  2400 error value =  0.5651802109557772\n",
            "step =  2800 error value =  0.5055835331709396\n",
            "step =  3200 error value =  0.4571174957267341\n",
            "step =  3600 error value =  0.416920298809039\n",
            "step =  4000 error value =  0.3830453999871349\n",
            "step =  4400 error value =  0.35411745607416634\n",
            "step =  4800 error value =  0.32913474313029095\n",
            "step =  5200 error value =  0.3073492711418755\n",
            "step =  5600 error value =  0.2881907450813699\n",
            "step =  6000 error value =  0.2712165492541785\n",
            "step =  6400 error value =  0.2560778332517818\n",
            "step =  6800 error value =  0.24249591451058708\n",
            "step =  7200 error value =  0.23024549008021772\n",
            "step =  7600 error value =  0.21914245902045484\n",
            "step =  8000 error value =  0.20903493704941972\n"
          ]
        }
      ]
    },
    {
      "cell_type": "code",
      "source": [
        "#AND Gate prediction\n",
        "\n",
        "test_data = np.array([[0,0],[0,1], [1,0], [1,1]])\n",
        "\n",
        "for input_data in test_data:\n",
        "  (sigmoid_val, logical_val) = AND_obj.predict(input_data)\n",
        "  print(input_data, '=', logical_val, '\\n')"
      ],
      "metadata": {
        "colab": {
          "base_uri": "https://localhost:8080/"
        },
        "id": "JrZpsE8vIVKU",
        "outputId": "ed50cdec-4fe9-4b7e-db4c-f8adb1382e81"
      },
      "execution_count": 7,
      "outputs": [
        {
          "output_type": "stream",
          "name": "stdout",
          "text": [
            "[0 0] = 0 \n",
            "\n",
            "[0 1] = 0 \n",
            "\n",
            "[1 0] = 0 \n",
            "\n",
            "[1 1] = 1 \n",
            "\n"
          ]
        }
      ]
    },
    {
      "cell_type": "code",
      "source": [
        "#OR Gate 검증\n",
        "xdata = np.array([[0,0],[0,1], [1,0], [1,1]])\n",
        "tdata = np.array([0,1,1,1])  \n",
        "\n",
        "OR_obj = LogicGate('OR_GATE', xdata, tdata)\n",
        "\n",
        "OR_obj.train()"
      ],
      "metadata": {
        "colab": {
          "base_uri": "https://localhost:8080/"
        },
        "id": "odoHwTNrI9kk",
        "outputId": "4ff3d5d2-bccc-4c8d-bec9-cf05fc32b276"
      },
      "execution_count": 8,
      "outputs": [
        {
          "output_type": "stream",
          "name": "stdout",
          "text": [
            "initial error value =  1.8272715093665077\n",
            "step =  0 error value =  1.82281900592051\n",
            "step =  400 error value =  1.1128803265057348\n",
            "step =  800 error value =  0.8046314928642616\n",
            "step =  1200 error value =  0.6244549681206711\n",
            "step =  1600 error value =  0.5072974157739124\n",
            "step =  2000 error value =  0.4254849196880956\n",
            "step =  2400 error value =  0.365389306876322\n",
            "step =  2800 error value =  0.3195375258586779\n",
            "step =  3200 error value =  0.2834996380224943\n",
            "step =  3600 error value =  0.25449025816209075\n",
            "step =  4000 error value =  0.2306748712071458\n",
            "step =  4400 error value =  0.21079882148688744\n",
            "step =  4800 error value =  0.19397671171017464\n",
            "step =  5200 error value =  0.17956692663119192\n",
            "step =  5600 error value =  0.16709379568530602\n",
            "step =  6000 error value =  0.15619762401236162\n",
            "step =  6400 error value =  0.1466016518300656\n",
            "step =  6800 error value =  0.1380896363881757\n",
            "step =  7200 error value =  0.1304902915812048\n",
            "step =  7600 error value =  0.12366626702475128\n",
            "step =  8000 error value =  0.11750619983060968\n"
          ]
        }
      ]
    },
    {
      "cell_type": "code",
      "source": [
        "#OR Gate prediction\n",
        "\n",
        "test_data = np.array([[0,0],[0,1], [1,0], [1,1]])\n",
        "\n",
        "for input_data in test_data:\n",
        "  (sigmoid_val, logical_val) = OR_obj.predict(input_data)\n",
        "  print(input_data, '=', logical_val, '\\n')"
      ],
      "metadata": {
        "colab": {
          "base_uri": "https://localhost:8080/"
        },
        "id": "iKId1ymyJI1e",
        "outputId": "9e1845ca-7d31-49c1-a0e1-cfe7a6a34710"
      },
      "execution_count": 9,
      "outputs": [
        {
          "output_type": "stream",
          "name": "stdout",
          "text": [
            "[0 0] = 0 \n",
            "\n",
            "[0 1] = 1 \n",
            "\n",
            "[1 0] = 1 \n",
            "\n",
            "[1 1] = 1 \n",
            "\n"
          ]
        }
      ]
    },
    {
      "cell_type": "code",
      "source": [
        "#NAND Gate 검증\n",
        "\n",
        "xdata = np.array([[0,0],[0,1], [1,0], [1,1]])\n",
        "tdata = np.array([1,1,1,0])   \n",
        "\n",
        "NAND_obj = LogicGate('NAND_GATE', xdata, tdata)\n",
        "\n",
        "NAND_obj.train()"
      ],
      "metadata": {
        "colab": {
          "base_uri": "https://localhost:8080/"
        },
        "id": "NfZpwFc3JPgy",
        "outputId": "a2326124-b02d-4058-e549-6a4190ee311e"
      },
      "execution_count": 18,
      "outputs": [
        {
          "output_type": "stream",
          "name": "stdout",
          "text": [
            "initial error value =  2.791389090898909\n",
            "step =  0 error value =  2.7864958256041223\n",
            "step =  400 error value =  1.649829200233042\n",
            "step =  800 error value =  1.198447961189209\n",
            "step =  1200 error value =  0.9530027334929219\n",
            "step =  1600 error value =  0.794540482432776\n",
            "step =  2000 error value =  0.6821076951348943\n",
            "step =  2400 error value =  0.5975767107469785\n",
            "step =  2800 error value =  0.5314832684541384\n",
            "step =  3200 error value =  0.47831014079360223\n",
            "step =  3600 error value =  0.43458374731438154\n",
            "step =  4000 error value =  0.3979907947142489\n",
            "step =  4400 error value =  0.3669235012298564\n",
            "step =  4800 error value =  0.3402262490375091\n",
            "step =  5200 error value =  0.31704550606730897\n",
            "step =  5600 error value =  0.29673646437274614\n",
            "step =  6000 error value =  0.2788026035854081\n",
            "step =  6400 error value =  0.2628552564353074\n",
            "step =  6800 error value =  0.24858579396295738\n",
            "step =  7200 error value =  0.23574603125423693\n",
            "step =  7600 error value =  0.22413413658074832\n",
            "step =  8000 error value =  0.21358431331216915\n"
          ]
        }
      ]
    },
    {
      "cell_type": "code",
      "source": [
        "#NAND Gate prediction\n",
        "\n",
        "test_data = np.array([[0,0],[0,1], [1,0], [1,1]])\n",
        "\n",
        "for input_data in test_data:\n",
        "  (sigmoid_val, logical_val) = NAND_obj.predict(input_data)\n",
        "  print(input_data, '=', logical_val, '\\n')"
      ],
      "metadata": {
        "colab": {
          "base_uri": "https://localhost:8080/"
        },
        "id": "fIcMaBw4MmgE",
        "outputId": "c3c66fcd-dff2-4c90-9a55-b8314cffeb83"
      },
      "execution_count": 19,
      "outputs": [
        {
          "output_type": "stream",
          "name": "stdout",
          "text": [
            "[0 0] = 1 \n",
            "\n",
            "[0 1] = 1 \n",
            "\n",
            "[1 0] = 1 \n",
            "\n",
            "[1 1] = 0 \n",
            "\n"
          ]
        }
      ]
    },
    {
      "cell_type": "code",
      "source": [
        "#XOR Gate 검증\n",
        "\n",
        "xdata = np.array([[0,0],[0,1], [1,0], [1,1]])\n",
        "tdata = np.array([0,1,1,0])   \n",
        "\n",
        "XOR_obj = LogicGate('XOR_GATE', xdata, tdata)\n",
        "\n",
        "XOR_obj.train()\n",
        "\n",
        "##이를 실행하면 2.77에서 더 이상 내려가지 않는다. "
      ],
      "metadata": {
        "colab": {
          "base_uri": "https://localhost:8080/"
        },
        "id": "ZtpLEJ0WJXbh",
        "outputId": "b6c600ca-1dcc-4a70-b419-e923cac94272"
      },
      "execution_count": 10,
      "outputs": [
        {
          "output_type": "stream",
          "name": "stdout",
          "text": [
            "initial error value =  3.3604613466993047\n",
            "step =  0 error value =  3.345685115266585\n",
            "step =  400 error value =  2.777632289039383\n",
            "step =  800 error value =  2.773874399098025\n",
            "step =  1200 error value =  2.772933178075341\n",
            "step =  1600 error value =  2.772683153336192\n",
            "step =  2000 error value =  2.7726145582222506\n",
            "step =  2400 error value =  2.7725954235436467\n",
            "step =  2800 error value =  2.772590041801983\n",
            "step =  3200 error value =  2.7725885220965147\n",
            "step =  3600 error value =  2.7725880921344928\n",
            "step =  4000 error value =  2.77258797037583\n",
            "step =  4400 error value =  2.7725879358805106\n",
            "step =  4800 error value =  2.7725879261056336\n",
            "step =  5200 error value =  2.7725879233354678\n",
            "step =  5600 error value =  2.7725879225503753\n",
            "step =  6000 error value =  2.772587922327867\n",
            "step =  6400 error value =  2.7725879222648033\n",
            "step =  6800 error value =  2.772587922246931\n",
            "step =  7200 error value =  2.7725879222418652\n",
            "step =  7600 error value =  2.7725879222404295\n",
            "step =  8000 error value =  2.7725879222400223\n"
          ]
        }
      ]
    },
    {
      "cell_type": "code",
      "source": [
        "#XOR Gate prediction\n",
        "\n",
        "test_data = np.array([[0,0],[0,1], [1,0], [1,1]])\n",
        "\n",
        "for input_data in test_data:\n",
        "  (sigmoid_val, logical_val) = XOR_obj.predict(input_data)\n",
        "  print(input_data, '=', logical_val, '\\n')\n",
        "\n",
        "##우리가 아는 정답값이 나오지 않는다. 따라서 XOR 게이트는 우리가 학습한 logistic regression방법으로는 정답값을 예측할 수 없다. "
      ],
      "metadata": {
        "colab": {
          "base_uri": "https://localhost:8080/"
        },
        "id": "NmWFfxJGJwqh",
        "outputId": "4d0b3331-5d51-46b6-a800-61e4f441d6b6"
      },
      "execution_count": 11,
      "outputs": [
        {
          "output_type": "stream",
          "name": "stdout",
          "text": [
            "[0 0] = 0 \n",
            "\n",
            "[0 1] = 0 \n",
            "\n",
            "[1 0] = 0 \n",
            "\n",
            "[1 1] = 1 \n",
            "\n"
          ]
        }
      ]
    },
    {
      "cell_type": "code",
      "source": [
        "## 이를 해결하기 위해서는 nand와 or 함수를 각각 따로 만들고 이 때의 출력값을 s1, s2라고 한다면 s1과 s2의 and 논리의 최종 출력값을 xor 게이트의 출력값으로 한다. \n",
        "## xor의 진리값은 다음과 같다. \n",
        "\n",
        "for i in [[0,0,1,0,0],[1,0,1,1,1],[0,1,1,1,1],[1,1,0,1,0]]:\n",
        "  print('x1 =', i[0], '  x2 =', i[1], ' s1(NAND) =', i[2], ' s2(OR) =', i[3], ' y(XOR) =', i[4])"
      ],
      "metadata": {
        "colab": {
          "base_uri": "https://localhost:8080/"
        },
        "id": "R15LwovbJ-sZ",
        "outputId": "7fe19304-80a3-44a4-f3f7-5a77c9dc8ea6"
      },
      "execution_count": 16,
      "outputs": [
        {
          "output_type": "stream",
          "name": "stdout",
          "text": [
            "x1 = 0   x2 = 0  s1(NAND) = 1  s2(OR) = 0  y(XOR) = 0\n",
            "x1 = 1   x2 = 0  s1(NAND) = 1  s2(OR) = 1  y(XOR) = 1\n",
            "x1 = 0   x2 = 1  s1(NAND) = 1  s2(OR) = 1  y(XOR) = 1\n",
            "x1 = 1   x2 = 1  s1(NAND) = 0  s2(OR) = 1  y(XOR) = 0\n"
          ]
        }
      ]
    },
    {
      "cell_type": "code",
      "source": [
        "# XOR을 NAND + OR => AND 조합으로 계산함\n",
        "\n",
        "input_data = np.array([[0,0],[0,1],[1,0],[1,1]])\n",
        "\n",
        "s1 = []  #NAND 출력\n",
        "s2 = []  #OR 출력\n",
        "\n",
        "new_input_data = []  #AND 출력\n",
        "final_output = []  #AND 출력\n",
        "\n",
        "for index in range(len(input_data)):\n",
        "\n",
        "  s1 = NAND_obj.predict(input_data[index])   #NAND 출력\n",
        "  s2 = OR_obj.predict(input_data[index])     #OR 출력\n",
        "\n",
        "  new_input_data.append(s1[-1])  #AND 출력\n",
        "  new_input_data.append(s2[-1])  #AND 출력\n",
        "\n",
        "  (sigmoid_val, logical_val) = AND_obj.predict(np.array(new_input_data))\n",
        "\n",
        "  final_output.append(logical_val)  #AND출력, 즉 XOR 출력\n",
        "  new_input_data = []   #AND 입력 초기화\n",
        "\n",
        "for index in range(len(input_data)):\n",
        "  print(input_data[index], ' = ', final_output[index], end = '')\n",
        "  print('\\n')\n",
        "\n"
      ],
      "metadata": {
        "colab": {
          "base_uri": "https://localhost:8080/"
        },
        "id": "f_YVC9TKLNdx",
        "outputId": "6bc38aeb-806d-4ff8-eaf5-2270d7536477"
      },
      "execution_count": 20,
      "outputs": [
        {
          "output_type": "stream",
          "name": "stdout",
          "text": [
            "[0 0]  =  0\n",
            "\n",
            "[0 1]  =  1\n",
            "\n",
            "[1 0]  =  1\n",
            "\n",
            "[1 1]  =  0\n",
            "\n"
          ]
        }
      ]
    }
  ]
}