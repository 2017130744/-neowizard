{
  "nbformat": 4,
  "nbformat_minor": 0,
  "metadata": {
    "colab": {
      "name": "Untitled47.ipynb",
      "provenance": [],
      "authorship_tag": "ABX9TyN2+VOrYLvxDwuHf+r9IO3c",
      "include_colab_link": true
    },
    "kernelspec": {
      "name": "python3",
      "display_name": "Python 3"
    },
    "language_info": {
      "name": "python"
    }
  },
  "cells": [
    {
      "cell_type": "markdown",
      "metadata": {
        "id": "view-in-github",
        "colab_type": "text"
      },
      "source": [
        "<a href=\"https://colab.research.google.com/github/2017130744/-neowizard/blob/main/12%20%20supervised/unsupervised.ipynb\" target=\"_parent\"><img src=\"https://colab.research.google.com/assets/colab-badge.svg\" alt=\"Open In Colab\"/></a>"
      ]
    },
    {
      "cell_type": "code",
      "execution_count": null,
      "metadata": {
        "id": "BY2rbq6CW9Ec"
      },
      "outputs": [],
      "source": [
        "#인공지능: 인간의 학습능력, 추론능력 등을 컴퓨터를 통해 구현하는 포괄적인 개념\n",
        "\n",
        "#머신러닝: 데이터를 이용하여 데이터 특성과 패턴을 학습, 그 결과를 바탕으로 미지의 데이터에 대한 그것의 미래 결과(값, 분포)을 예측\n",
        "#데이터마이닝: 데이터간의 상관관계나 속성을 찾는 것이 주 목적\n",
        "\n",
        "#딥러닝: 머신러닝의 한 분야로서 신경망(neural network)을 통하여 학습하는 알고리즘의 집합\n",
        "\n",
        "#인공지능>머신러닝>딥러닝 \n",
        "\n",
        "#머신러닝은 지도학습과 비지도학습으로 나뉜다. 지도학습(supervised)은 학습할 데이터에 입력과 그 입력에 대응되는 정답을 이용해 데이터의 특성과 분포를 학습하고 미래결과를 예측. \n",
        "#어떤 종류의 데이터를 도출하느냐에 따라 회귀(regression)과 분류(classification)으로 나뉜다. \n",
        "#비지도학습(unsupervised)은 입력값만 있다는 점에서 지도학습과 차이가 있다. 정답이 없는 입력데이터를 이용하므로 그 입력값의 특성에 대해서 군집화(clustering)한다. \n",
        "\n",
        "#지도학습의 예시: 공부시간과 시험성적의 관계를 통해 공부시간에 대한 성적 예측. numerical data -> numerical data. 이는 회귀(regression)에 해당.\n",
        "#만약 예측된 시험성적이 90점 이상일 때 합격이라고 하자. 그러면 공부시간에 따른 합불 여부를 예측할 수 있을 것이다. 이렇게 numerical data로 nominal한 값을 예측하는 것은 분류(classification)에 해당. \n",
        "\n",
        "#비지도학습의 예시: 군집화 알고리즘을 이용한 뉴스 그룹핑, 백화점의 상품 추천 시스템 등. \n",
        "#비지도 학습의 트레이닝 데이터에는 입력값만 존재한다. 이 입력값의 특성을 주제별로 묶거나 유사한 데이터들끼리 묶어서 군집화한다. 상관관계를 나타내는 직선을 그리는 것은 지도학습이다. \n",
        "\n"
      ]
    }
  ]
}