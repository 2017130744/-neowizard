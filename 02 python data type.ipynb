{
  "nbformat": 4,
  "nbformat_minor": 0,
  "metadata": {
    "colab": {
      "name": "Untitled37.ipynb",
      "provenance": [],
      "authorship_tag": "ABX9TyP+fnnp5/I4ybY28QN/6BwF",
      "include_colab_link": true
    },
    "kernelspec": {
      "name": "python3",
      "display_name": "Python 3"
    },
    "language_info": {
      "name": "python"
    }
  },
  "cells": [
    {
      "cell_type": "markdown",
      "metadata": {
        "id": "view-in-github",
        "colab_type": "text"
      },
      "source": [
        "<a href=\"https://colab.research.google.com/github/2017130744/-neowizard/blob/main/02%20python%20data%20type.ipynb\" target=\"_parent\"><img src=\"https://colab.research.google.com/assets/colab-badge.svg\" alt=\"Open In Colab\"/></a>"
      ]
    },
    {
      "cell_type": "code",
      "execution_count": 3,
      "metadata": {
        "colab": {
          "base_uri": "https://localhost:8080/"
        },
        "id": "5F4uHe1Rd9bO",
        "outputId": "73f92a19-19c5-4933-e5a0-1bf6517b0288"
      },
      "outputs": [
        {
          "output_type": "execute_result",
          "data": {
            "text/plain": [
              "[100]"
            ]
          },
          "metadata": {},
          "execution_count": 3
        }
      ],
      "source": [
        "c = []\n",
        "c.append(100) ##append는 리스트에 새로운 원소를 집어넣는다. \n"
      ]
    },
    {
      "cell_type": "code",
      "source": [
        "#슬라이싱\n",
        "\n",
        "a = [10,20,30,40,50]\n",
        "a[0:2] ##인덱스 0부터 2-1=1까지. 10과 20 출력\n",
        "a[:3] ## 인덱스 0부터 3-1=2까지. 10,20,30 출력\n",
        "a[2:] ## 인덱스 2부터 끝까지. 30,40,50 출력\n",
        "a[-4:-1] ## 인덱스 -4부터 -1까지. 20,30,40,50 출력\n",
        "a[:]  ## 인덱스 처음부터 끝까지 모두 출력.\n"
      ],
      "metadata": {
        "colab": {
          "base_uri": "https://localhost:8080/"
        },
        "id": "VHd5eoqgfEdu",
        "outputId": "2d58fae3-f893-4687-a963-3cb82c5c8816"
      },
      "execution_count": 4,
      "outputs": [
        {
          "output_type": "execute_result",
          "data": {
            "text/plain": [
              "[10, 20, 30, 40, 50]"
            ]
          },
          "metadata": {},
          "execution_count": 4
        }
      ]
    },
    {
      "cell_type": "code",
      "source": [
        "#튜플: 리스트는 원소를 변경할 수 있지만 튜플은 변경할 수 없다. \n",
        "\n",
        "a = (10,20,30,40,50)\n",
        "a[0] ## 튜플은 리스트와 같이 인덱스 가능\n",
        "a[1:4] ##튜플은 리스트와 같이 슬라이싱 가능\n",
        "\n",
        "a[0] = 100 ## 에러가 뜬다. 리스트는 원소를 바꿀 수 있지만 튜플은 불가능하다. "
      ],
      "metadata": {
        "id": "LEA45CKef92w"
      },
      "execution_count": null,
      "outputs": []
    },
    {
      "cell_type": "code",
      "source": [
        "#딕셔너리: {key:value} 의 형태.\n",
        "\n",
        "score = {'kim':90, 'lee':85, 'jun':95}\n",
        "\n",
        "score['kim'] ##딕셔너리는 인덱스를 key값으로 value를 출력한다. \n",
        "\n",
        "score['han'] = 100  ##딕셔너리는 존재하지 않는 key값으로 새로운 value를 지정해줘서 추가할 수 있다. \n",
        "                    ##딕셔너리는 반드시 입력한 순서대로 데이터가 들어가는 것이 아니므로 주의. \n",
        "\n",
        "score.keys() ##딕셔너리의 모든 key값을 출력\n",
        "score.values() ##딕셔너리의 모든 value를 출력\n",
        "score.items() ##딕셔너리의 모든 key:value를 출력"
      ],
      "metadata": {
        "colab": {
          "base_uri": "https://localhost:8080/"
        },
        "id": "fVm7oR0XgTV7",
        "outputId": "6f229650-061b-4063-c729-2a96ecd43dda"
      },
      "execution_count": 8,
      "outputs": [
        {
          "output_type": "execute_result",
          "data": {
            "text/plain": [
              "dict_items([('kim', 90), ('lee', 85), ('jun', 95), ('han', 100)])"
            ]
          },
          "metadata": {},
          "execution_count": 8
        }
      ]
    },
    {
      "cell_type": "code",
      "source": [
        "##string -> 파이썬 문자열은 따옴표를 사용해 생성. 문자열 내 각각의 값 또한 문자열로 인식\n",
        "\n",
        "a = 'A73,CD'\n",
        "a[1] ##이 때 7의 데이터타입은 num이 아니라 string이다. \n",
        "\n",
        "a = a+ ', EFG' ##문자열은 또 다른 문자들을 추가해줄 수 있다. \n",
        "b = a.split(,) ##split은 특정 separator를 기준으로 문자열을 분리하여 리스트로 리턴\n",
        "\n"
      ],
      "metadata": {
        "colab": {
          "base_uri": "https://localhost:8080/",
          "height": 35
        },
        "id": "4zM7CqEOhZY7",
        "outputId": "72521144-64a1-410f-922f-ff653e6358e9"
      },
      "execution_count": 10,
      "outputs": [
        {
          "output_type": "execute_result",
          "data": {
            "application/vnd.google.colaboratory.intrinsic+json": {
              "type": "string"
            },
            "text/plain": [
              "'7'"
            ]
          },
          "metadata": {},
          "execution_count": 10
        }
      ]
    },
    {
      "cell_type": "code",
      "source": [
        "#유용한 함수들\n",
        "\n",
        "a = [10,20,30,40,50]\n",
        "b = (10,20,30,40,50)\n",
        "c = {'kim':80, 'lee':90}\n",
        "d = 'seoul'\n",
        "e = [[100,200], [300,400], [500,600]]\n",
        "\n",
        "print(type(a), type(b), type(c), type(d), type(e)) ##a의 데이터타입을 출력. \n",
        "print(len(a), len(b), len(c), len(d), len(e)) ##a의 길이를 출력. 데이터의 길이는 요소의 개수를 의미한다. 딕셔너리의 경우 key와 value의 쌍의 개수를 출력한다. string의 경우 공백도 포함된다. \n",
        "print(size(e)) ##size는 그 데이터타입의 모든 원소의 개수를 출력. \n",
        "\n"
      ],
      "metadata": {
        "colab": {
          "base_uri": "https://localhost:8080/"
        },
        "id": "Ei8n5h9uiBzA",
        "outputId": "e5559ccd-5fca-4c6f-a830-4dbfd5fa8264"
      },
      "execution_count": 11,
      "outputs": [
        {
          "output_type": "stream",
          "name": "stdout",
          "text": [
            "<class 'list'> <class 'tuple'> <class 'dict'> <class 'str'> <class 'list'>\n",
            "5 5 2 5 3\n"
          ]
        }
      ]
    },
    {
      "cell_type": "code",
      "source": [
        "#유용한 함수들\n",
        "\n",
        "a = 'hello'\n",
        "b = {'kim':80, 'lee':90}\n",
        "\n",
        "## list함수\n",
        "\n",
        "print(list(a)) ##문자열을 각각의 element로 분해되어 리스트로 출력\n",
        "print(list(b.keys())) ##모든 key값을 원소로 가지는 리스트로 출력\n",
        "print(list(b.values())) ##모든 value를 원소로 가지는 리스트로 출력\n",
        "print(list(b.items())) ##모든 쌍을 튜플로 만들어서 원소로 가지는 리스트 출력\n",
        "type(list(b.items())[0]) ## tuple이라고 나온다. \n",
        "\n",
        "## str함수: 입력된 데이터를 문자열로 변환하여 리턴\n",
        "c = 3.14\n",
        "str(c) ## '3.14'로 나오며 데이터타입은 string\n",
        "\n",
        "## int함수: 문자열로 입력된 숫자나 소수점이 있는 숫자를 정수 형태로 리턴\n",
        "int('3.14') ## 3으로 출력. 정수부분만 나온다. 만약 소수점 이하 숫자도 출력하려면 float()을 쓴다. \n"
      ],
      "metadata": {
        "colab": {
          "base_uri": "https://localhost:8080/",
          "height": 109
        },
        "id": "r1QDuxPRjbW5",
        "outputId": "a2094a66-83cc-4095-852d-36113f509c44"
      },
      "execution_count": 14,
      "outputs": [
        {
          "output_type": "stream",
          "name": "stdout",
          "text": [
            "['h', 'e', 'l', 'l', 'o']\n",
            "['kim', 'lee']\n",
            "[80, 90]\n",
            "[('kim', 80), ('lee', 90)]\n"
          ]
        },
        {
          "output_type": "execute_result",
          "data": {
            "application/vnd.google.colaboratory.intrinsic+json": {
              "type": "string"
            },
            "text/plain": [
              "'3.14'"
            ]
          },
          "metadata": {},
          "execution_count": 14
        }
      ]
    }
  ]
}