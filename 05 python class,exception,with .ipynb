{
  "nbformat": 4,
  "nbformat_minor": 0,
  "metadata": {
    "colab": {
      "name": "Untitled40.ipynb",
      "provenance": [],
      "authorship_tag": "ABX9TyOZLglLnqleirk26/6V7jDl",
      "include_colab_link": true
    },
    "kernelspec": {
      "name": "python3",
      "display_name": "Python 3"
    },
    "language_info": {
      "name": "python"
    }
  },
  "cells": [
    {
      "cell_type": "markdown",
      "metadata": {
        "id": "view-in-github",
        "colab_type": "text"
      },
      "source": [
        "<a href=\"https://colab.research.google.com/github/2017130744/-neowizard/blob/main/05%20python%20class%2Cexception%2Cwith%20.ipynb\" target=\"_parent\"><img src=\"https://colab.research.google.com/assets/colab-badge.svg\" alt=\"Open In Colab\"/></a>"
      ]
    },
    {
      "cell_type": "code",
      "execution_count": 6,
      "metadata": {
        "colab": {
          "base_uri": "https://localhost:8080/",
          "height": 90
        },
        "id": "gkamooEHCkVc",
        "outputId": "9f0da48a-5d0f-4f11-b4db-814419f9dc18"
      },
      "outputs": [
        {
          "output_type": "stream",
          "name": "stdout",
          "text": [
            "kim is initialized\n",
            "kim is working in abc\n",
            "kim is sleeping\n"
          ]
        },
        {
          "output_type": "execute_result",
          "data": {
            "application/vnd.google.colaboratory.intrinsic+json": {
              "type": "string"
            },
            "text/plain": [
              "'kim'"
            ]
          },
          "metadata": {},
          "execution_count": 6
        }
      ],
      "source": [
        "#class\n",
        "# class 클래스 이름:\n",
        "#   def __init__(self, 인수1, 인수2...):  -> 생성자\n",
        "#   def 매서드이름(self, 인수1, 인수2...): -> 매서드\n",
        "\n",
        "class person:\n",
        "  def __init__(self, name):                           ##파이썬 클래스는 __init__ 매서드가 생성자 역할을 수행하며 인스턴스가 만들어질 때 한 번만 호출됨\n",
        "    self.name = name\n",
        "    print(self.name + \" is initialized\")\n",
        "\n",
        "  def work(self, company):                          ## 파이썬 클래스에서는 매서드의 첫번째 인수로 반드시 자신의 인스턴스임을 나타내는 self를 기술해야함\n",
        "    print(self.name + \" is working in \" + company)\n",
        "\n",
        "  def sleep(self):\n",
        "    print(self.name + \" is sleeping\")\n",
        "\n",
        "obj = person(\"kim\")\n",
        "\n",
        "obj                            ## 그냥 클래스 자체만 실행시키면 처음 init 매서드가 실행됨\n",
        "obj.work('abc')                 ## 클래스.매서드(인수) 와 같은 형태로 실행\n",
        "obj.sleep()                   ## 매서드에 self 말고 어떤 인수도 없는 형태\n",
        "\n",
        "obj.name                      ##파이썬에서는 매서드 내의 변수에 바로 접근하여 사용 가능\n",
        "\n"
      ]
    },
    {
      "cell_type": "code",
      "source": [
        "class person:\n",
        "\n",
        "  count = 0   ## person이라는 인스턴스가 실행될 때 count는 0으로 설정됨. 이 클래스를 사용하는 모든 변수는 같은 count를 공유.\n",
        "\n",
        "  def __init__(self, name):                          \n",
        "    self.name = name\n",
        "    person.count += 1                        ##person 인스턴스가 실행될때마다 count도 1씩 증가\n",
        "    print(self.name + \" is initialized\")\n",
        "\n",
        "  def work(self, company):                          \n",
        "    print(self.name + \" is working in \" + company)\n",
        "\n",
        "  def sleep(self):\n",
        "    print(self.name + \" is sleeping\")\n",
        "\n",
        "  @classmethod            ## @classmethod를 쓴 매서드는 클래스 변수로 접근하게 해준다. 이 때 인수는 self(객체 인스턴스)가 아니라 cls(클래스)를 써준다. \n",
        "  def getcount(cls):\n",
        "    return cls.count\n",
        "\n",
        "obj1 = person('lee')\n",
        "obj2 = person('park')\n",
        "\n",
        "person.getcount() \n",
        "person.count   ##obj1과 obj2 총 두 번 실행되어서 count값이 두 번 올라갔다. 따라서 2가 나온다. \n"
      ],
      "metadata": {
        "colab": {
          "base_uri": "https://localhost:8080/"
        },
        "id": "bKGQdQUIE1Ji",
        "outputId": "1e8a9b3b-3329-4181-bee2-d754eb2c34f0"
      },
      "execution_count": 9,
      "outputs": [
        {
          "output_type": "stream",
          "name": "stdout",
          "text": [
            "lee is initialized\n",
            "park is initialized\n"
          ]
        },
        {
          "output_type": "execute_result",
          "data": {
            "text/plain": [
              "2"
            ]
          },
          "metadata": {},
          "execution_count": 9
        }
      ]
    },
    {
      "cell_type": "code",
      "source": [
        ""
      ],
      "metadata": {
        "id": "gbEl0t7AHWIA"
      },
      "execution_count": null,
      "outputs": []
    },
    {
      "cell_type": "code",
      "source": [
        "class private_person:\n",
        "  def __init__(self, name1, name2):                        \n",
        "    self.name1 = name1\n",
        "    self.__name2 = name2              ##만약 __를 넣어준다면 외부에서 접근할 수 없는 객체가 된다. \n",
        "    print(name1 + name2 +  \" is initialized\")\n",
        "  \n",
        "  def __printnames(self):\n",
        "    print(self.name1, self.__name2)   #매서드도 __로 클래스 내부에서만 사용가능한 private한 매서드로 만들어줄 수 있다. \n",
        "\n",
        "  def getnames(self):\n",
        "    self.__printnames()\n",
        "    return self.name1, self.__name2 \n",
        "\n",
        "\n",
        "obj = private_person('kim', 'lee')\n",
        "obj.name1           ##name1은 public한 객체이므로 접근이 된다.\n",
        "#obj.name2           ## 하지만 name2는 private한 객체여서 외부에서 접근이 안되고 에러가 뜬다. \n",
        "\n",
        "obj.getnames()    \n",
        "# obj.__printnames()  ##private 매서드였기 때문에 외부에서 접근이 안된다. "
      ],
      "metadata": {
        "colab": {
          "base_uri": "https://localhost:8080/",
          "height": 248
        },
        "id": "kRu7SUV7H2kK",
        "outputId": "8861ce4f-6238-4c9e-bc49-c2efde53802f"
      },
      "execution_count": 16,
      "outputs": [
        {
          "output_type": "stream",
          "name": "stdout",
          "text": [
            "kimlee is initialized\n",
            "kim lee\n"
          ]
        },
        {
          "output_type": "error",
          "ename": "AttributeError",
          "evalue": "ignored",
          "traceback": [
            "\u001b[0;31m---------------------------------------------------------------------------\u001b[0m",
            "\u001b[0;31mAttributeError\u001b[0m                            Traceback (most recent call last)",
            "\u001b[0;32m<ipython-input-16-eba3deccedac>\u001b[0m in \u001b[0;36m<module>\u001b[0;34m()\u001b[0m\n\u001b[1;32m     18\u001b[0m \u001b[0;34m\u001b[0m\u001b[0m\n\u001b[1;32m     19\u001b[0m \u001b[0mobj\u001b[0m\u001b[0;34m.\u001b[0m\u001b[0mgetnames\u001b[0m\u001b[0;34m(\u001b[0m\u001b[0;34m)\u001b[0m\u001b[0;34m\u001b[0m\u001b[0;34m\u001b[0m\u001b[0m\n\u001b[0;32m---> 20\u001b[0;31m \u001b[0mobj\u001b[0m\u001b[0;34m.\u001b[0m\u001b[0m__printnames\u001b[0m\u001b[0;34m(\u001b[0m\u001b[0;34m)\u001b[0m\u001b[0;34m\u001b[0m\u001b[0;34m\u001b[0m\u001b[0m\n\u001b[0m",
            "\u001b[0;31mAttributeError\u001b[0m: 'private_person' object has no attribute '__printnames'"
          ]
        }
      ]
    },
    {
      "cell_type": "code",
      "source": [
        "def function(name):\n",
        "  print(\"out \" + name)\n",
        "\n",
        "class sametest:\n",
        "  def __init__(self):\n",
        "    pass                ##아무것도 실행하지 않겠다는 의미이다. \n",
        "\n",
        "  def function(self, name):\n",
        "    print(\"in \" + name)\n",
        "\n",
        "  def call_test(self):\n",
        "    function(\"kim\")         #이 때 실행되는 함수는 클래스 외부에 있는 function이다. \n",
        "    self.function(\"kim\")    #만약 클래스 내부에 있는 함수를 실행시키기 위해서는 self. 를 붙여야한다. \n",
        "\n",
        "obj = sametest()\n",
        "\n",
        "\n",
        "obj.function(\"lee\")\n",
        "function(\"lee\")\n",
        "\n",
        "obj.call_test()"
      ],
      "metadata": {
        "colab": {
          "base_uri": "https://localhost:8080/"
        },
        "id": "eXcotY24JjDl",
        "outputId": "332b8055-d2ad-4341-fce0-f0c438657622"
      },
      "execution_count": 20,
      "outputs": [
        {
          "output_type": "stream",
          "name": "stdout",
          "text": [
            "in lee\n",
            "out lee\n",
            "out kim\n",
            "in kim\n"
          ]
        }
      ]
    },
    {
      "cell_type": "code",
      "source": [
        "## 예외처리 - exception: try... except로 쓴다. \n",
        "\n",
        "def calc(list_data):\n",
        "  sum = 0\n",
        "\n",
        "  try:\n",
        "    sum = list_data[0] + list_data[1] + list_data[2]\n",
        "\n",
        "    if sum < 0:\n",
        "      raise Exception(\"Sum is minus\")   ## raise 예외이름: 인위적으로 exception을 실행\n",
        "\n",
        "  except IndexError as err:\n",
        "    print(str(err))\n",
        "  except Exception as err:                  ## 위에서 지정했던 Exception이 실행되는 것\n",
        "    print (str(err))\n",
        "  finally:\n",
        "    print(sum)\n",
        "\n",
        "calc([1,2])   ## 리스트 내의 원소가 2개라서 list_data[2]에 해당하는 부분이 없어 indexerror가 발생한다. 이를 except로 indexError를 지정해주었다. \n",
        "calc([1,2,-100])  ## sum<0이므로 인위적으로 실행시킨 exception이 실행."
      ],
      "metadata": {
        "colab": {
          "base_uri": "https://localhost:8080/"
        },
        "id": "ZSWfH9cBgQu_",
        "outputId": "63274002-d5c9-4fc1-f0b9-4c2a159bf944"
      },
      "execution_count": 22,
      "outputs": [
        {
          "output_type": "stream",
          "name": "stdout",
          "text": [
            "list index out of range\n",
            "0\n",
            "Sum is minus\n",
            "-97\n"
          ]
        }
      ]
    },
    {
      "cell_type": "code",
      "source": [
        "#with 구문\n",
        "\n",
        "#기존의 파일 또는 세션을 사용하는 순서. 반드시 close로 마무리 해주어야 한다. \n",
        "f = open('./file_test' , 'w')\n",
        "f.write('hello python')\n",
        "f.close()\n",
        "\n",
        "#with구문을 쓰면 close를 안해줘도 자동으로 끝난다. \n",
        "\n",
        "with open('./file_test' , 'w') as f:\n",
        "  f.write('hello python')"
      ],
      "metadata": {
        "id": "x7Cx5lp5eiBN"
      },
      "execution_count": null,
      "outputs": []
    },
    {
      "cell_type": "code",
      "source": [
        ""
      ],
      "metadata": {
        "id": "Tj7Oh4hFjfvF"
      },
      "execution_count": null,
      "outputs": []
    }
  ]
}