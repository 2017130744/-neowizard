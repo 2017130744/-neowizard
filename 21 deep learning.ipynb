{
  "nbformat": 4,
  "nbformat_minor": 0,
  "metadata": {
    "colab": {
      "name": "Untitled53.ipynb",
      "provenance": [],
      "authorship_tag": "ABX9TyNl6Dkm4jAr8/0q/wph8qvu",
      "include_colab_link": true
    },
    "kernelspec": {
      "name": "python3",
      "display_name": "Python 3"
    },
    "language_info": {
      "name": "python"
    }
  },
  "cells": [
    {
      "cell_type": "markdown",
      "metadata": {
        "id": "view-in-github",
        "colab_type": "text"
      },
      "source": [
        "<a href=\"https://colab.research.google.com/github/2017130744/-neowizard/blob/main/21%20deep%20learning.ipynb\" target=\"_parent\"><img src=\"https://colab.research.google.com/assets/colab-badge.svg\" alt=\"Open In Colab\"/></a>"
      ]
    },
    {
      "cell_type": "code",
      "source": [
        "import numpy as np\n",
        "\n",
        "training_data = np.loadtxt('mnist_train.csv', delimiter = ',', dtype = np.float32)\n",
        "test_data = np.loadtxt('mnist_test.csv', delimiter = ',', dtype = np.float32)\n",
        "\n",
        "training_data.shape"
      ],
      "metadata": {
        "colab": {
          "base_uri": "https://localhost:8080/"
        },
        "id": "2LMooySWZy3q",
        "outputId": "36155fd9-9500-4c8d-a933-b5acab4b70d8"
      },
      "execution_count": 43,
      "outputs": [
        {
          "output_type": "execute_result",
          "data": {
            "text/plain": [
              "(60000, 785)"
            ]
          },
          "metadata": {},
          "execution_count": 43
        }
      ]
    },
    {
      "cell_type": "code",
      "source": [
        "import numpy as np\n",
        "\n",
        "##1. external function(sigmoid, nemirecal_derivative)\n",
        "\n",
        "def sigmoid(x):\n",
        "  return 1 / (1+np.exp(-x))\n",
        "\n",
        "\n",
        "def numerical_derivative(f,x):\n",
        "  delta_x = 1e-4\n",
        "  grad = np.zeros_like(x)        \n",
        "\n",
        "  it = np.nditer(x, flags=['multi_index'], op_flags = ['readwrite'])\n",
        "\n",
        "  while not it.finished:\n",
        "    idx = it.multi_index   \n",
        "\n",
        "    tmp_val = x[idx]\n",
        "    x[idx] = float(tmp_val) + delta_x\n",
        "    fx1 = f(x)    ##f(x + delta_x)\n",
        "\n",
        "    x[idx] = tmp_val - delta_x\n",
        "    fx2 = f(x)   ##f(x-delta_x)\n",
        "\n",
        "    grad[idx] = (fx1 - fx2) / (2*delta_x)\n",
        "\n",
        "    x[idx] = tmp_val\n",
        "    it.iternext()\n",
        "\n",
        "  return grad"
      ],
      "metadata": {
        "id": "vt6r1el9K__V"
      },
      "execution_count": 7,
      "outputs": []
    },
    {
      "cell_type": "code",
      "source": [
        "class NeuralNetwork:\n",
        "\n",
        "  def __init__(self, input_nodes, hidden_nodes, output_nodes):\n",
        "\n",
        "    self.input_nodes = input_nodes\n",
        "    self.hidden_nodes = hidden_nodes\n",
        "    self.output_nodes = output_nodes\n",
        "\n",
        "    # 2층 hidden layer unit : 가중치 W2, 바이어스 b2 초기화\n",
        "    self.W2 = np.random.rand(self.input_nodes, self.hidden_nodes)     # W2 = 784x100\n",
        "    self.b2 = np.random.rand(self.hidden_nodes)                       # b2 = (100,)\n",
        "\n",
        "    # 3층 hidden layer unit \n",
        "    self.W3 = np.random.rand(self.hidden_nodes, self.output_nodes)     # W3 = 100 x 100\n",
        "    self.b3 = np.random.rand(self.output_nodes)                         # b3 = (10,)\n",
        "\n",
        "    #학습률 learning data 초기화\n",
        "    self.learning_rate = 1e-4\n",
        "\n",
        "\n",
        "\n",
        "    #feed forward 를 통하여 입력층에서부터 출력층까지 데이터를 전달하고 손실함수 값 계산\n",
        "    #loss_val(self) 메서드와 동일한 코드. loss_val은 외부 출력용으로 사용됨\n",
        "  def feed_forward(self):\n",
        "\n",
        "     delta = 1e-7   ## log 무한대 발산 방지\n",
        "\n",
        "     z1 = np.dot(self.input_data, self.W2) + self.b2    ##은닉층의 선형회귀 값 계산\n",
        "     y1 = sigmoid(z1)                                    ##은닉층의 출력\n",
        "\n",
        "     z2 = np.dot(y1, self.W3) + self.b3              ##출력층의 선형회귀 값\n",
        "     y = sigmoid(z2)                                ##출력층의 출력\n",
        "\n",
        "     #cross-entropy\n",
        "     return -np.sum(self.target_data*np.log(y+delta) + (1-self.target_data)*np.log((1-y)+delta))\n",
        "\n",
        "    #외부 출력을위한 손실함수 값 계산\n",
        "  def loss_val(self):\n",
        "\n",
        "     delta = 1e-7   ## log 무한대 발산 방지\n",
        "\n",
        "     z1 = np.dot(self.input_data, self.W2) + self.b2    ##은닉층의 선형회귀 값 계산\n",
        "     y1 = sigmoid(z1)                                    ##은닉층의 출력\n",
        "\n",
        "     z2 = np.dot(y1, self.W3) + self.b3              ##출력층의 선형회귀 값\n",
        "     y = sigmoid(z2)                                ##출력층의 출력\n",
        "\n",
        "     #cross-entropy\n",
        "     return -np.sum(self.target_data*np.log(y+delta) + (1-self.target_data)*np.log((1-y)+delta))\n",
        "\n",
        "\n",
        "    #수치미분을 이용하여 손실함수가 최소가 될 때까지 학습하는 함수\n",
        "  def train(self, training_data):\n",
        "\n",
        "      #normalize\n",
        "      self.target_data = np.zeros(output_nodes) + 0.01\n",
        "      self.target_data[int(training_data[0])] = 0.99\n",
        "\n",
        "      self.input_data = (training_data[1:] / 255.0 * 0.99) + 0.01\n",
        "\n",
        "      f = lambda x : self.feed_forward()\n",
        "\n",
        "      self.W2 -= self.learning_rate * numerical_derivative(f, self.W2)\n",
        "      self.b2 -= self.learning_rate * numerical_derivative(f, self.b2)\n",
        "      self.W3 -= self.learning_rate * numerical_derivative(f, self.W3)\n",
        "      self.b3 -= self.learning_rate * numerical_derivative(f, self.b3)    ##은닉층마다 그 사이에 있는 가중치와 바이어스를 모두 추가해주어야 한다. \n",
        "\n",
        "\n",
        "      \n",
        "    #미래 값 예측 함수\n",
        "  def predict (self, input_data):\n",
        "    \n",
        "     z1 = np.dot(input_data, self.W2) + self.b2           ##은닉층의 선형회귀 값 계산\n",
        "     y1 = sigmoid(z1)                                    ##은닉층의 출력\n",
        "\n",
        "     z2 = np.dot(y1, self.W3) + self.b3              ##출력층의 선형회귀 값\n",
        "     y =  sigmoid(z2)                                ##출력층의 출력\n",
        "\n",
        "     predicted_num = np.argmax(y)\n",
        "\n",
        "     return predicted_num\n",
        "\n",
        "    #정확도 측정함수\n",
        "  def accuracy(self, test_data):\n",
        "\n",
        "     matched_list = []\n",
        "     not_matched_list = []\n",
        "\n",
        "     for index in range(len(test_data)):\n",
        "\n",
        "       label = int(test_data[index, 0])\n",
        "\n",
        "       #normalize\n",
        "       data = (test_data[index, 1:] / 255.0 * 0.99) + 0.01\n",
        "\n",
        "       predicted_num = self.predict(data)\n",
        "\n",
        "       if label == predicted_num:               #정답과 예측값이 일치하면 matched에 넣고 일치하지 않으면 not_matched에 넣는다. \n",
        "         matched_list.append(index)\n",
        "       else:\n",
        "         not_matched_list.append(index)\n",
        "\n",
        "     print ('Current Accuracy = ', 100* (len(matched_list) / (len(test_data))), \" %\")\n",
        "\n",
        "  "
      ],
      "metadata": {
        "id": "iFBoXVhWLBGw"
      },
      "execution_count": 61,
      "outputs": []
    },
    {
      "cell_type": "code",
      "source": [
        "##mnist 검증\n",
        "\n",
        "input_nodes = 784\n",
        "hidden_nodes = 100\n",
        "output_nodes = 10\n",
        "\n",
        "nn = NeuralNetwork(input_nodes, hidden_nodes, output_nodes)\n",
        "\n",
        "for step in range(30001):  #전체 트레이닝 데이터의 50%\n",
        "  \n",
        "  # 총 6만개의 트레이닝 데이터 중 랜덤하게 3만개 선택\n",
        "  index = np.random.randint(0, len(training_data) - 1)\n",
        "\n",
        "  nn.train(training_data[index])\n",
        "\n",
        "  if step % 400 == 0:\n",
        "    print('step = ', step, ', loss_val = ', nn.loss_val())"
      ],
      "metadata": {
        "id": "5Kx9Yc0VdNzK"
      },
      "execution_count": null,
      "outputs": []
    },
    {
      "cell_type": "code",
      "source": [
        "# accuracy 계산\n",
        "\n",
        "nn.accuracy(test_data)"
      ],
      "metadata": {
        "id": "8A4rF4SwfJQI"
      },
      "execution_count": null,
      "outputs": []
    }
  ]
}