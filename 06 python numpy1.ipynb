{
  "nbformat": 4,
  "nbformat_minor": 0,
  "metadata": {
    "colab": {
      "name": "Untitled41.ipynb",
      "provenance": [],
      "authorship_tag": "ABX9TyMmoQK+8Jir7ISiynvv7XO5",
      "include_colab_link": true
    },
    "kernelspec": {
      "name": "python3",
      "display_name": "Python 3"
    },
    "language_info": {
      "name": "python"
    }
  },
  "cells": [
    {
      "cell_type": "markdown",
      "metadata": {
        "id": "view-in-github",
        "colab_type": "text"
      },
      "source": [
        "<a href=\"https://colab.research.google.com/github/2017130744/-neowizard/blob/main/06%20python%20numpy1.ipynb\" target=\"_parent\"><img src=\"https://colab.research.google.com/assets/colab-badge.svg\" alt=\"Open In Colab\"/></a>"
      ]
    },
    {
      "cell_type": "code",
      "execution_count": 1,
      "metadata": {
        "id": "VTdjNOJ_JBbV"
      },
      "outputs": [],
      "source": [
        "##numpy: \n",
        "\n",
        "import numpy as np\n",
        "from numpy import exp  ##원래는 numpy.exp라고 써야하지만 from import를 통해 exp를 바로 가져올 수 있게 했다. \n",
        "\n"
      ]
    },
    {
      "cell_type": "code",
      "source": [
        "#리스트로 행렬 표현\n",
        "\n",
        "A = [[1,0],[0,1]]\n",
        "B = [[1,1],[1,1]]\n",
        "\n",
        "A + B  ## 이는 행렬합이 아니라 그냥 리스트연산을 한다. \n",
        "\n",
        "A = np.array([[1,0],[0,1]])\n",
        "B = np.array([[1,1],[1,1]])\n",
        "\n",
        "A+B     ##numpy를 써주면 행렬을 만들 수 있고 이는 행렬합의 연산이다. \n",
        "        ##행렬 자체는 리스트로도 나타낼 수 있지만 행렬 연산이 직관적이지 않고 오류 가능성이 높다. 따라서 numpy 사용은 행렬 연산을 위해 필수다."
      ],
      "metadata": {
        "colab": {
          "base_uri": "https://localhost:8080/"
        },
        "id": "rxLXE4UwJkm5",
        "outputId": "43b334fe-943c-481f-eac2-d73176c2272a"
      },
      "execution_count": 4,
      "outputs": [
        {
          "output_type": "execute_result",
          "data": {
            "text/plain": [
              "array([[2, 1],\n",
              "       [1, 2]])"
            ]
          },
          "metadata": {},
          "execution_count": 4
        }
      ]
    },
    {
      "cell_type": "code",
      "source": [
        "##vector는 np.array([...]) 를 사용하여 생성. \n",
        "\n",
        "a = np.array([1,2,3])\n",
        "print(a)\n",
        "\n",
        "a.shape   ##vector a의 형상을 출력할 땐 shape\n",
        "a.ndim     ##vector a의 차원을 출력할 땐 ndim"
      ],
      "metadata": {
        "colab": {
          "base_uri": "https://localhost:8080/"
        },
        "id": "lLIN-0suKac_",
        "outputId": "45f1cb59-ee82-4e2b-f6a8-3af61a0ae70d"
      },
      "execution_count": 8,
      "outputs": [
        {
          "output_type": "stream",
          "name": "stdout",
          "text": [
            "[1 2 3]\n"
          ]
        },
        {
          "output_type": "execute_result",
          "data": {
            "text/plain": [
              "1"
            ]
          },
          "metadata": {},
          "execution_count": 8
        }
      ]
    },
    {
      "cell_type": "code",
      "source": [
        "a = np.array([1,2,3])\n",
        "b = np.array([4,5,6])\n",
        "\n",
        "print(a+b)\n",
        "print(a-b)\n",
        "print(a/b)\n",
        "print(a*b)\n",
        "\n",
        "#벡터 간 산술 연산은 벡터의 각 원소에 대해서 행해짐"
      ],
      "metadata": {
        "colab": {
          "base_uri": "https://localhost:8080/"
        },
        "id": "YnjCWTyPLJgQ",
        "outputId": "5e770f0b-a85c-4e7e-a0fa-3466aeec0770"
      },
      "execution_count": 10,
      "outputs": [
        {
          "output_type": "stream",
          "name": "stdout",
          "text": [
            "[5 7 9]\n",
            "[-3 -3 -3]\n",
            "[0.25 0.4  0.5 ]\n",
            "[ 4 10 18]\n"
          ]
        }
      ]
    },
    {
      "cell_type": "code",
      "source": [
        "#2차원 행렬 만들기\n",
        "\n",
        "a = np.array([[1,2,3],[4,5,6]])  ## 큰 대괄호와 작은 대괄호가 있다. 이는 2행 3열의 벡터이다. \n",
        "\n",
        "b = a.reshape(3,2)        ##reshape를 하면 행렬의 형상을 바꿀 수 있다. 이 때 원래의 차원 수의 곱이 같아야한다. 2x3행렬은 1x6, 2x3, 3x2, 6x1 행렬로만 바뀔 수 있다. \n",
        "b"
      ],
      "metadata": {
        "colab": {
          "base_uri": "https://localhost:8080/"
        },
        "id": "V0NlMzD8LfTv",
        "outputId": "4cc7bc41-9cb7-4035-eff4-36bfe0246b10"
      },
      "execution_count": 11,
      "outputs": [
        {
          "output_type": "execute_result",
          "data": {
            "text/plain": [
              "array([[1, 2],\n",
              "       [3, 4],\n",
              "       [5, 6]])"
            ]
          },
          "metadata": {},
          "execution_count": 11
        }
      ]
    }
  ]
}